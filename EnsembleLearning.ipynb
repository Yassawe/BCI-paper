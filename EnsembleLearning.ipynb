{
 "cells": [
  {
   "cell_type": "code",
   "execution_count": 1,
   "metadata": {
    "scrolled": true
   },
   "outputs": [
    {
     "output_type": "stream",
     "name": "stderr",
     "text": [
      "INFO: Using numpy backend\n"
     ]
    }
   ],
   "source": [
    "import numpy as np\n",
    "import scipy.linalg as la\n",
    "from sklearn.discriminant_analysis import LinearDiscriminantAnalysis as LDA\n",
    "import geomstats as gs\n",
    "import geomstats.geometry.spd_matrices as spd\n",
    "import pickle\n",
    "from scipy.signal import butter, lfilter\n",
    "from geomstats.learning.frechet_mean import FrechetMean\n",
    "from scipy.io import loadmat\n",
    "import pandas as pd\n",
    "from copy import deepcopy\n",
    "from scipy.stats import wilcoxon\n",
    "\n",
    "\n",
    "pd.set_option('display.max_columns', None)\n",
    "pd.set_option('display.max_rows', None)\n",
    "pd.options.display.float_format = \"{:,.3f}\".format"
   ]
  },
  {
   "cell_type": "markdown",
   "metadata": {},
   "source": [
    "# Preprocessing"
   ]
  },
  {
   "cell_type": "code",
   "execution_count": 2,
   "metadata": {},
   "outputs": [],
   "source": [
    "def getCovariances(X):\n",
    "    covlist = np.empty((X.shape[0], X.shape[2], X.shape[2]))\n",
    "    for i in range(len(X)):\n",
    "        trial = X[i]\n",
    "        n = trial.shape[0]\n",
    "        epoch = (trial - np.mean(trial))/np.std(trial)\n",
    "        covlist[i] = np.dot(trial.T, trial)/n\n",
    "    return covlist\n",
    "\n",
    "def bandpass(X, fs, fl, fh, order):\n",
    "    X_filtered = np.empty_like(X)    \n",
    "    for i in range(X.shape[1]):\n",
    "        trial = X[:, i, :]\n",
    "        nyq = 0.5 * fs\n",
    "        low = fl / nyq\n",
    "        high = fh / nyq\n",
    "        b, a = butter(order, [low, high], btype='band')\n",
    "        trial = lfilter(b, a, trial, axis=0)\n",
    "        X_filtered[:, i, :] = trial\n",
    "            \n",
    "    return X_filtered\n",
    "\n",
    "def getData(session, fs=1000, fl=8, fh=30, order = 5):\n",
    "    channels = [7, 8, 9, 10, 12, 13, 14, 17, 18, 19, 20, 32, 33, 34, 35, 36, 37, 38, 39, 40]\n",
    "    SubjectsCOV = []\n",
    "    SubjectsY = []\n",
    "    for i in range(1, 55):\n",
    "        filename = 'datasets/54subjects/'+ session + '/subj{}_EEG_MI.mat'.format(i)\n",
    "        data = loadmat(filename)\n",
    "        \n",
    "        d_train = data['EEG_MI_train']\n",
    "        Y_train = d_train['y_dec'][0][0][0] - 1\n",
    "        \n",
    "        d_test = data['EEG_MI_test']\n",
    "        Y_test = d_test['y_dec'][0][0][0] - 1\n",
    "        \n",
    "        X_train = d_train['smt'][0][0][:, :, channels]\n",
    "        X_train_filtered = bandpass(X_train, fs, fl, fh, order)\n",
    "        X_train_filtered = X_train_filtered[1000:3500]\n",
    "        \n",
    "        X_test = d_test['smt'][0][0][:, :, channels]\n",
    "        X_test_filtered = bandpass(X_test, fs, fl, fh, order)\n",
    "        X_test_filtered = X_test_filtered[1000:3500]\n",
    "        \n",
    "        X = np.concatenate((X_train_filtered, X_test_filtered), axis = 1)\n",
    "        X = np.swapaxes(X, 0, 1)\n",
    "        covX = getCovariances(X)\n",
    "        Y = np.concatenate((Y_train, Y_test))    \n",
    "        SubjectsCOV.append(covX)\n",
    "        SubjectsY.append(Y)\n",
    "                    \n",
    "    return SubjectsCOV, SubjectsY"
   ]
  },
  {
   "cell_type": "code",
   "execution_count": 4,
   "metadata": {},
   "outputs": [],
   "source": [
    "# SubjectsCOV, SubjectsY = getData(\"sess01\")\n",
    "# filename = 'datasets/54COVSess01.pickle'\n",
    "# outfile = open(filename,'wb')\n",
    "# pickle.dump([SubjectsCOV, SubjectsY], outfile)\n",
    "# outfile.close()\n",
    "\n",
    "# SubjectsCOV, SubjectsY = getData(\"sess02\")\n",
    "# filename = 'datasets/54COVSess02.pickle'\n",
    "# outfile = open(filename,'wb')\n",
    "# pickle.dump([SubjectsCOV, SubjectsY], outfile)\n",
    "# outfile.close()"
   ]
  },
  {
   "cell_type": "markdown",
   "metadata": {},
   "source": [
    "# RCSP class"
   ]
  },
  {
   "cell_type": "code",
   "execution_count": 2,
   "metadata": {},
   "outputs": [],
   "source": [
    "class RCSP:\n",
    "    def __init__(self, metric, nchannels, clf):\n",
    "        self.metric = metric\n",
    "        self.nchannels = nchannels\n",
    "        self.clf=clf()\n",
    "        self.V=None\n",
    "        self.n=None\n",
    "    \n",
    "    def estimateMeans(self, classSpecificCOV):\n",
    "        if self.metric==\"classic\":\n",
    "            class0_avg = sum(classSpecificCOV[0])/len(classSpecificCOV[0])\n",
    "            class1_avg = sum(classSpecificCOV[1])/len(classSpecificCOV[1])\n",
    "            return [class0_avg, class1_avg]\n",
    "        elif self.metric==\"AIRM\":\n",
    "            estimator = FrechetMean(spd.SPDMetricAffine(n=self.nchannels), max_iter=64)\n",
    "        elif self.metric==\"LEM\":\n",
    "            estimator = FrechetMean(spd.SPDMetricLogEuclidean(n=self.nchannels), max_iter=64)\n",
    "        elif self.metric==\"BW\":\n",
    "            estimator = FrechetMean(spd.SPDMetricBuresWasserstein(n=self.nchannels), max_iter=64) #doesn't work yet\n",
    "        else:\n",
    "            raise Exception(\"Not implemented metric\")\n",
    "            \n",
    "        means = []\n",
    "        \n",
    "        for COV in classSpecificCOV:\n",
    "            estimator.fit(COV)\n",
    "            mean = estimator.estimate_\n",
    "            means.append(mean)\n",
    "        return means\n",
    "    \n",
    "    def separate_classes(self, X, Y):\n",
    "        classSpecificCOV = []\n",
    "        for i in range(2): \n",
    "            ind = np.where(Y==i)[0]\n",
    "            classCOV = X[ind]\n",
    "            classSpecificCOV.append(classCOV)\n",
    "        return classSpecificCOV\n",
    "    \n",
    "    def CSP(self, means, n):\n",
    "        _,V = la.eigh(means[0], means[0]+means[1])\n",
    "        V = np.concatenate((V[:, :n], V[:, -n:]), axis=1)\n",
    "        return V\n",
    "    \n",
    "    def applyCSP(self, trial, V):\n",
    "        a = np.dot(np.dot(V.T, trial), V) \n",
    "        f = np.log(np.diagonal(a)/np.trace(a)) #logvariance features \n",
    "        return f\n",
    "    \n",
    "    def train(self, trainCOV, trainLabels, n=3):\n",
    "        \n",
    "        classSpecificCOV = self.separate_classes(trainCOV, trainLabels)\n",
    "        means = self.estimateMeans(classSpecificCOV)\n",
    "        \n",
    "        V=self.CSP(means, n)\n",
    "        self.V=V\n",
    "        self.n=n\n",
    "        train_features = np.empty((len(trainCOV), 2*n))\n",
    "        \n",
    "        for i in range(len(trainCOV)):\n",
    "            trial = trainCOV[i]\n",
    "            train_features[i] = self.applyCSP(trial, V)\n",
    "        \n",
    "        self.clf.fit(train_features, trainLabels)\n",
    "    \n",
    "    def predict(self, testCOV):\n",
    "        V = self.V\n",
    "        n = self.n\n",
    "        \n",
    "        if V is None or n is None:\n",
    "            raise Exception('Train the model first')\n",
    "        \n",
    "        test_features = np.empty((len(testCOV), 2*n))\n",
    "        for i in range(len(testCOV)):\n",
    "            trial = testCOV[i]\n",
    "            test_features[i] = self.applyCSP(trial, V)\n",
    "        \n",
    "        prediction = self.clf.predict(test_features)\n",
    "        return prediction"
   ]
  },
  {
   "cell_type": "markdown",
   "metadata": {},
   "source": [
    "# Globaly used things"
   ]
  },
  {
   "cell_type": "code",
   "execution_count": 3,
   "metadata": {},
   "outputs": [],
   "source": [
    "#base classifiers \n",
    "c_csp = RCSP('classic', 20, LDA)\n",
    "airm_csp = RCSP('AIRM', 20, LDA)\n",
    "lem_csp = RCSP('LEM', 20, LDA)"
   ]
  },
  {
   "cell_type": "code",
   "execution_count": 4,
   "metadata": {},
   "outputs": [],
   "source": [
    "def count_accuracy(predicted, true, dec_places=2):\n",
    "    err_count = 0\n",
    "    for j in range(len(true)):\n",
    "        if predicted[j]!=true[j]:\n",
    "            err_count+=1\n",
    "    acc = (1-err_count/len(true))*100\n",
    "    acc = round(acc, dec_places)\n",
    "    return acc"
   ]
  },
  {
   "cell_type": "code",
   "execution_count": 5,
   "metadata": {},
   "outputs": [],
   "source": [
    "SubjectsCOV1, SubjectsY1 = pickle.load(open('datasets/54COVSess01.pickle','rb'))\n",
    "SubjectsCOV2, SubjectsY2 = pickle.load(open('datasets/54COVSess02.pickle','rb'))\n",
    "\n",
    "#Values were extracted from this paper: https://www.researchgate.net/publication/330745291_EEG_dataset_and_OpenBMI_toolbox_for_three_BCI_paradigms_an_investigation_into_BCI_illiteracy\n",
    "\n",
    "paper_s1 = [61,96,95,53,94,77,49,57,86,65,47,46,56,58,55,53,83,92,82,59,98,77,54,49,54,49,56,94,99,76,58,56,99,48,52,97,93,56,64,46,62,47,77,99,93,53,44,50,63,59,71,72,50,53,67.3]\n",
    "paper_s2 = [83,86,94,57,81,88,71,66,71,61,59,58,54,48,57,69,42,82,89,73,100,85,68,54,57,44,70,97,98,66,57,97,89,47,52,94,81,52,52,58,48,63,86,100,99,58,59,49,62,58,52,72,54,45,68.6]"
   ]
  },
  {
   "cell_type": "markdown",
   "metadata": {},
   "source": [
    "# Majority Vote"
   ]
  },
  {
   "cell_type": "markdown",
   "metadata": {},
   "source": [
    "## Subject-Dependent"
   ]
  },
  {
   "cell_type": "code",
   "execution_count": 15,
   "metadata": {},
   "outputs": [],
   "source": [
    "def majority_vote(SubjectsCOV, SubjectsY, n, papervals):\n",
    "    df = pd.DataFrame(index=list(range(1, 55))+['Average', 'p-values'], columns=['Paper', 'Classic CSP', 'AIRM CSP', 'LEM CSP', 'Majority Vote'])\n",
    "    \n",
    "    c_results = [] #very sloppy coding, did not prioritize clean code\n",
    "    a_results = []\n",
    "    l_results = []\n",
    "    m_results = []\n",
    "    \n",
    "    for i in range(len(SubjectsCOV)):\n",
    "        COVi = SubjectsCOV[i]\n",
    "        Yi = SubjectsY[i]\n",
    "\n",
    "        trainCOV = COVi[:100]\n",
    "        trainY = Yi[:100]\n",
    "\n",
    "        testCOV = COVi[100:] \n",
    "        testY = Yi[100:] \n",
    "\n",
    "        c_csp.train(trainCOV, trainY, n=n)\n",
    "        c_res = c_csp.predict(testCOV)\n",
    "        airm_csp.train(trainCOV, trainY, n=n)\n",
    "        a_res = airm_csp.predict(testCOV)\n",
    "\n",
    "        lem_csp.train(trainCOV, trainY, n=n)\n",
    "        l_res = lem_csp.predict(testCOV)\n",
    "\n",
    "        res = np.column_stack((c_res, a_res, l_res))\n",
    "        N = len(res)\n",
    "\n",
    "        majority = np.empty(N, dtype='uint8')\n",
    "\n",
    "        for j in range(N):\n",
    "            majority[j] = np.argmax(np.bincount(res[j]))\n",
    "    \n",
    "        c_results.append(count_accuracy(c_res, testY))\n",
    "        a_results.append(count_accuracy(a_res, testY))\n",
    "        l_results.append(count_accuracy(l_res, testY))\n",
    "        m_results.append(count_accuracy(majority, testY))\n",
    "    \n",
    "    c_results.append(sum(c_results)/len(c_results))\n",
    "    _, pval = wilcoxon(papervals[:-1], c_results[:-1])\n",
    "    c_results.append(pval)\n",
    "    \n",
    "    a_results.append(sum(a_results)/len(a_results))\n",
    "    _, pval = wilcoxon(papervals[:-1], a_results[:-1])\n",
    "    a_results.append(pval)\n",
    "                     \n",
    "    l_results.append(sum(l_results)/len(l_results))\n",
    "    _, pval = wilcoxon(papervals[:-1], l_results[:-1])\n",
    "    l_results.append(pval)\n",
    "    \n",
    "    m_results.append(sum(m_results)/len(m_results))\n",
    "    _, pval = wilcoxon(papervals[:-1], m_results[:-1])\n",
    "    m_results.append(pval)\n",
    "    \n",
    "    \n",
    "    \n",
    "    df['Paper'] = papervals + [None]\n",
    "    df['Classic CSP'] = c_results\n",
    "    df['AIRM CSP'] = a_results\n",
    "    df['LEM CSP'] = l_results\n",
    "    df['Majority Vote'] = m_results\n",
    "    \n",
    "    return df"
   ]
  },
  {
   "cell_type": "markdown",
   "metadata": {},
   "source": [
    "### Session 1"
   ]
  },
  {
   "cell_type": "markdown",
   "metadata": {},
   "source": [
    "#### N=3"
   ]
  },
  {
   "cell_type": "code",
   "execution_count": 16,
   "metadata": {
    "scrolled": false
   },
   "outputs": [
    {
     "output_type": "execute_result",
     "data": {
      "text/plain": [
       "          Paper  Classic CSP  AIRM CSP  LEM CSP  Majority Vote\n",
       "1        61.000       67.000    68.000   66.000         69.000\n",
       "2        96.000       94.000    95.000   95.000         95.000\n",
       "3        95.000       96.000    93.000   92.000         93.000\n",
       "4        53.000       51.000    49.000   48.000         50.000\n",
       "5        94.000       91.000    93.000   93.000         93.000\n",
       "6        77.000       71.000    76.000   75.000         78.000\n",
       "7        49.000       52.000    49.000   49.000         49.000\n",
       "8        57.000       55.000    58.000   55.000         56.000\n",
       "9        86.000       83.000    83.000   81.000         83.000\n",
       "10       65.000       64.000    66.000   64.000         63.000\n",
       "11       47.000       45.000    53.000   50.000         51.000\n",
       "12       46.000       51.000    50.000   50.000         50.000\n",
       "13       56.000       55.000    55.000   53.000         55.000\n",
       "14       58.000       54.000    56.000   55.000         56.000\n",
       "15       55.000       50.000    52.000   56.000         56.000\n",
       "16       53.000       57.000    60.000   56.000         60.000\n",
       "17       83.000       82.000    85.000   88.000         86.000\n",
       "18       92.000       92.000    92.000   91.000         91.000\n",
       "19       82.000       84.000    82.000   84.000         84.000\n",
       "20       59.000       53.000    53.000   54.000         53.000\n",
       "21       98.000       95.000    97.000   96.000         96.000\n",
       "22       77.000       79.000    92.000   91.000         91.000\n",
       "23       54.000       53.000    56.000   54.000         56.000\n",
       "24       49.000       53.000    52.000   52.000         53.000\n",
       "25       54.000       54.000    47.000   49.000         49.000\n",
       "26       49.000       51.000    52.000   50.000         52.000\n",
       "27       56.000       49.000    50.000   50.000         50.000\n",
       "28       94.000       96.000    95.000   93.000         95.000\n",
       "29       99.000       99.000    98.000   98.000         98.000\n",
       "30       76.000       80.000    75.000   73.000         75.000\n",
       "31       58.000       58.000    60.000   55.000         57.000\n",
       "32       56.000       52.000    52.000   55.000         52.000\n",
       "33       99.000       99.000    99.000   99.000         99.000\n",
       "34       48.000       51.000    45.000   44.000         47.000\n",
       "35       52.000       49.000    47.000   47.000         49.000\n",
       "36       97.000       97.000    97.000   97.000         97.000\n",
       "37       93.000       93.000    93.000   94.000         93.000\n",
       "38       56.000       52.000    58.000   62.000         61.000\n",
       "39       64.000       63.000    82.000   75.000         75.000\n",
       "40       46.000       45.000    47.000   46.000         48.000\n",
       "41       62.000       56.000    56.000   58.000         59.000\n",
       "42       47.000       51.000    45.000   45.000         45.000\n",
       "43       77.000       80.000    85.000   83.000         84.000\n",
       "44       99.000       98.000    97.000   97.000         97.000\n",
       "45       93.000       94.000    92.000   90.000         92.000\n",
       "46       53.000       49.000    44.000   43.000         44.000\n",
       "47       44.000       51.000    53.000   43.000         47.000\n",
       "48       50.000       51.000    54.000   54.000         54.000\n",
       "49       63.000       50.000    50.000   50.000         50.000\n",
       "50       59.000       54.000    60.000   60.000         60.000\n",
       "51       71.000       66.000    71.000   69.000         67.000\n",
       "52       72.000       69.000    69.000   70.000         70.000\n",
       "53       50.000       53.000    49.000   49.000         48.000\n",
       "54       53.000       57.000    61.000   57.000         59.000\n",
       "Average  67.300       66.556    67.556   66.722         67.407\n",
       "p-values  1.000        0.238     0.936    0.201          0.969"
      ],
      "text/html": "<div>\n<style scoped>\n    .dataframe tbody tr th:only-of-type {\n        vertical-align: middle;\n    }\n\n    .dataframe tbody tr th {\n        vertical-align: top;\n    }\n\n    .dataframe thead th {\n        text-align: right;\n    }\n</style>\n<table border=\"1\" class=\"dataframe\">\n  <thead>\n    <tr style=\"text-align: right;\">\n      <th></th>\n      <th>Paper</th>\n      <th>Classic CSP</th>\n      <th>AIRM CSP</th>\n      <th>LEM CSP</th>\n      <th>Majority Vote</th>\n    </tr>\n  </thead>\n  <tbody>\n    <tr>\n      <th>1</th>\n      <td>61.000</td>\n      <td>67.000</td>\n      <td>68.000</td>\n      <td>66.000</td>\n      <td>69.000</td>\n    </tr>\n    <tr>\n      <th>2</th>\n      <td>96.000</td>\n      <td>94.000</td>\n      <td>95.000</td>\n      <td>95.000</td>\n      <td>95.000</td>\n    </tr>\n    <tr>\n      <th>3</th>\n      <td>95.000</td>\n      <td>96.000</td>\n      <td>93.000</td>\n      <td>92.000</td>\n      <td>93.000</td>\n    </tr>\n    <tr>\n      <th>4</th>\n      <td>53.000</td>\n      <td>51.000</td>\n      <td>49.000</td>\n      <td>48.000</td>\n      <td>50.000</td>\n    </tr>\n    <tr>\n      <th>5</th>\n      <td>94.000</td>\n      <td>91.000</td>\n      <td>93.000</td>\n      <td>93.000</td>\n      <td>93.000</td>\n    </tr>\n    <tr>\n      <th>6</th>\n      <td>77.000</td>\n      <td>71.000</td>\n      <td>76.000</td>\n      <td>75.000</td>\n      <td>78.000</td>\n    </tr>\n    <tr>\n      <th>7</th>\n      <td>49.000</td>\n      <td>52.000</td>\n      <td>49.000</td>\n      <td>49.000</td>\n      <td>49.000</td>\n    </tr>\n    <tr>\n      <th>8</th>\n      <td>57.000</td>\n      <td>55.000</td>\n      <td>58.000</td>\n      <td>55.000</td>\n      <td>56.000</td>\n    </tr>\n    <tr>\n      <th>9</th>\n      <td>86.000</td>\n      <td>83.000</td>\n      <td>83.000</td>\n      <td>81.000</td>\n      <td>83.000</td>\n    </tr>\n    <tr>\n      <th>10</th>\n      <td>65.000</td>\n      <td>64.000</td>\n      <td>66.000</td>\n      <td>64.000</td>\n      <td>63.000</td>\n    </tr>\n    <tr>\n      <th>11</th>\n      <td>47.000</td>\n      <td>45.000</td>\n      <td>53.000</td>\n      <td>50.000</td>\n      <td>51.000</td>\n    </tr>\n    <tr>\n      <th>12</th>\n      <td>46.000</td>\n      <td>51.000</td>\n      <td>50.000</td>\n      <td>50.000</td>\n      <td>50.000</td>\n    </tr>\n    <tr>\n      <th>13</th>\n      <td>56.000</td>\n      <td>55.000</td>\n      <td>55.000</td>\n      <td>53.000</td>\n      <td>55.000</td>\n    </tr>\n    <tr>\n      <th>14</th>\n      <td>58.000</td>\n      <td>54.000</td>\n      <td>56.000</td>\n      <td>55.000</td>\n      <td>56.000</td>\n    </tr>\n    <tr>\n      <th>15</th>\n      <td>55.000</td>\n      <td>50.000</td>\n      <td>52.000</td>\n      <td>56.000</td>\n      <td>56.000</td>\n    </tr>\n    <tr>\n      <th>16</th>\n      <td>53.000</td>\n      <td>57.000</td>\n      <td>60.000</td>\n      <td>56.000</td>\n      <td>60.000</td>\n    </tr>\n    <tr>\n      <th>17</th>\n      <td>83.000</td>\n      <td>82.000</td>\n      <td>85.000</td>\n      <td>88.000</td>\n      <td>86.000</td>\n    </tr>\n    <tr>\n      <th>18</th>\n      <td>92.000</td>\n      <td>92.000</td>\n      <td>92.000</td>\n      <td>91.000</td>\n      <td>91.000</td>\n    </tr>\n    <tr>\n      <th>19</th>\n      <td>82.000</td>\n      <td>84.000</td>\n      <td>82.000</td>\n      <td>84.000</td>\n      <td>84.000</td>\n    </tr>\n    <tr>\n      <th>20</th>\n      <td>59.000</td>\n      <td>53.000</td>\n      <td>53.000</td>\n      <td>54.000</td>\n      <td>53.000</td>\n    </tr>\n    <tr>\n      <th>21</th>\n      <td>98.000</td>\n      <td>95.000</td>\n      <td>97.000</td>\n      <td>96.000</td>\n      <td>96.000</td>\n    </tr>\n    <tr>\n      <th>22</th>\n      <td>77.000</td>\n      <td>79.000</td>\n      <td>92.000</td>\n      <td>91.000</td>\n      <td>91.000</td>\n    </tr>\n    <tr>\n      <th>23</th>\n      <td>54.000</td>\n      <td>53.000</td>\n      <td>56.000</td>\n      <td>54.000</td>\n      <td>56.000</td>\n    </tr>\n    <tr>\n      <th>24</th>\n      <td>49.000</td>\n      <td>53.000</td>\n      <td>52.000</td>\n      <td>52.000</td>\n      <td>53.000</td>\n    </tr>\n    <tr>\n      <th>25</th>\n      <td>54.000</td>\n      <td>54.000</td>\n      <td>47.000</td>\n      <td>49.000</td>\n      <td>49.000</td>\n    </tr>\n    <tr>\n      <th>26</th>\n      <td>49.000</td>\n      <td>51.000</td>\n      <td>52.000</td>\n      <td>50.000</td>\n      <td>52.000</td>\n    </tr>\n    <tr>\n      <th>27</th>\n      <td>56.000</td>\n      <td>49.000</td>\n      <td>50.000</td>\n      <td>50.000</td>\n      <td>50.000</td>\n    </tr>\n    <tr>\n      <th>28</th>\n      <td>94.000</td>\n      <td>96.000</td>\n      <td>95.000</td>\n      <td>93.000</td>\n      <td>95.000</td>\n    </tr>\n    <tr>\n      <th>29</th>\n      <td>99.000</td>\n      <td>99.000</td>\n      <td>98.000</td>\n      <td>98.000</td>\n      <td>98.000</td>\n    </tr>\n    <tr>\n      <th>30</th>\n      <td>76.000</td>\n      <td>80.000</td>\n      <td>75.000</td>\n      <td>73.000</td>\n      <td>75.000</td>\n    </tr>\n    <tr>\n      <th>31</th>\n      <td>58.000</td>\n      <td>58.000</td>\n      <td>60.000</td>\n      <td>55.000</td>\n      <td>57.000</td>\n    </tr>\n    <tr>\n      <th>32</th>\n      <td>56.000</td>\n      <td>52.000</td>\n      <td>52.000</td>\n      <td>55.000</td>\n      <td>52.000</td>\n    </tr>\n    <tr>\n      <th>33</th>\n      <td>99.000</td>\n      <td>99.000</td>\n      <td>99.000</td>\n      <td>99.000</td>\n      <td>99.000</td>\n    </tr>\n    <tr>\n      <th>34</th>\n      <td>48.000</td>\n      <td>51.000</td>\n      <td>45.000</td>\n      <td>44.000</td>\n      <td>47.000</td>\n    </tr>\n    <tr>\n      <th>35</th>\n      <td>52.000</td>\n      <td>49.000</td>\n      <td>47.000</td>\n      <td>47.000</td>\n      <td>49.000</td>\n    </tr>\n    <tr>\n      <th>36</th>\n      <td>97.000</td>\n      <td>97.000</td>\n      <td>97.000</td>\n      <td>97.000</td>\n      <td>97.000</td>\n    </tr>\n    <tr>\n      <th>37</th>\n      <td>93.000</td>\n      <td>93.000</td>\n      <td>93.000</td>\n      <td>94.000</td>\n      <td>93.000</td>\n    </tr>\n    <tr>\n      <th>38</th>\n      <td>56.000</td>\n      <td>52.000</td>\n      <td>58.000</td>\n      <td>62.000</td>\n      <td>61.000</td>\n    </tr>\n    <tr>\n      <th>39</th>\n      <td>64.000</td>\n      <td>63.000</td>\n      <td>82.000</td>\n      <td>75.000</td>\n      <td>75.000</td>\n    </tr>\n    <tr>\n      <th>40</th>\n      <td>46.000</td>\n      <td>45.000</td>\n      <td>47.000</td>\n      <td>46.000</td>\n      <td>48.000</td>\n    </tr>\n    <tr>\n      <th>41</th>\n      <td>62.000</td>\n      <td>56.000</td>\n      <td>56.000</td>\n      <td>58.000</td>\n      <td>59.000</td>\n    </tr>\n    <tr>\n      <th>42</th>\n      <td>47.000</td>\n      <td>51.000</td>\n      <td>45.000</td>\n      <td>45.000</td>\n      <td>45.000</td>\n    </tr>\n    <tr>\n      <th>43</th>\n      <td>77.000</td>\n      <td>80.000</td>\n      <td>85.000</td>\n      <td>83.000</td>\n      <td>84.000</td>\n    </tr>\n    <tr>\n      <th>44</th>\n      <td>99.000</td>\n      <td>98.000</td>\n      <td>97.000</td>\n      <td>97.000</td>\n      <td>97.000</td>\n    </tr>\n    <tr>\n      <th>45</th>\n      <td>93.000</td>\n      <td>94.000</td>\n      <td>92.000</td>\n      <td>90.000</td>\n      <td>92.000</td>\n    </tr>\n    <tr>\n      <th>46</th>\n      <td>53.000</td>\n      <td>49.000</td>\n      <td>44.000</td>\n      <td>43.000</td>\n      <td>44.000</td>\n    </tr>\n    <tr>\n      <th>47</th>\n      <td>44.000</td>\n      <td>51.000</td>\n      <td>53.000</td>\n      <td>43.000</td>\n      <td>47.000</td>\n    </tr>\n    <tr>\n      <th>48</th>\n      <td>50.000</td>\n      <td>51.000</td>\n      <td>54.000</td>\n      <td>54.000</td>\n      <td>54.000</td>\n    </tr>\n    <tr>\n      <th>49</th>\n      <td>63.000</td>\n      <td>50.000</td>\n      <td>50.000</td>\n      <td>50.000</td>\n      <td>50.000</td>\n    </tr>\n    <tr>\n      <th>50</th>\n      <td>59.000</td>\n      <td>54.000</td>\n      <td>60.000</td>\n      <td>60.000</td>\n      <td>60.000</td>\n    </tr>\n    <tr>\n      <th>51</th>\n      <td>71.000</td>\n      <td>66.000</td>\n      <td>71.000</td>\n      <td>69.000</td>\n      <td>67.000</td>\n    </tr>\n    <tr>\n      <th>52</th>\n      <td>72.000</td>\n      <td>69.000</td>\n      <td>69.000</td>\n      <td>70.000</td>\n      <td>70.000</td>\n    </tr>\n    <tr>\n      <th>53</th>\n      <td>50.000</td>\n      <td>53.000</td>\n      <td>49.000</td>\n      <td>49.000</td>\n      <td>48.000</td>\n    </tr>\n    <tr>\n      <th>54</th>\n      <td>53.000</td>\n      <td>57.000</td>\n      <td>61.000</td>\n      <td>57.000</td>\n      <td>59.000</td>\n    </tr>\n    <tr>\n      <th>Average</th>\n      <td>67.300</td>\n      <td>66.556</td>\n      <td>67.556</td>\n      <td>66.722</td>\n      <td>67.407</td>\n    </tr>\n    <tr>\n      <th>p-values</th>\n      <td>1.000</td>\n      <td>0.238</td>\n      <td>0.936</td>\n      <td>0.201</td>\n      <td>0.969</td>\n    </tr>\n  </tbody>\n</table>\n</div>"
     },
     "metadata": {},
     "execution_count": 16
    }
   ],
   "source": [
    "df = majority_vote(SubjectsCOV1, SubjectsY1, 3, paper_s1)\n",
    "df.head(56)"
   ]
  },
  {
   "cell_type": "markdown",
   "metadata": {},
   "source": [
    "#### N = 4"
   ]
  },
  {
   "cell_type": "code",
   "execution_count": 17,
   "metadata": {
    "scrolled": false
   },
   "outputs": [
    {
     "output_type": "execute_result",
     "data": {
      "text/plain": [
       "          Paper  Classic CSP  AIRM CSP  LEM CSP  Majority Vote\n",
       "1        61.000       77.000    68.000   63.000         69.000\n",
       "2        96.000       94.000    94.000   94.000         94.000\n",
       "3        95.000       94.000    92.000   94.000         94.000\n",
       "4        53.000       54.000    51.000   49.000         51.000\n",
       "5        94.000       88.000    88.000   88.000         88.000\n",
       "6        77.000       69.000    74.000   76.000         74.000\n",
       "7        49.000       54.000    54.000   52.000         54.000\n",
       "8        57.000       61.000    56.000   57.000         58.000\n",
       "9        86.000       81.000    81.000   78.000         80.000\n",
       "10       65.000       66.000    64.000   57.000         61.000\n",
       "11       47.000       47.000    53.000   51.000         51.000\n",
       "12       46.000       50.000    48.000   50.000         50.000\n",
       "13       56.000       51.000    54.000   51.000         52.000\n",
       "14       58.000       56.000    54.000   56.000         54.000\n",
       "15       55.000       52.000    55.000   52.000         53.000\n",
       "16       53.000       53.000    59.000   57.000         56.000\n",
       "17       83.000       82.000    82.000   79.000         81.000\n",
       "18       92.000       88.000    91.000   91.000         91.000\n",
       "19       82.000       84.000    80.000   83.000         83.000\n",
       "20       59.000       56.000    57.000   57.000         58.000\n",
       "21       98.000       96.000    97.000   97.000         97.000\n",
       "22       77.000       80.000    93.000   92.000         93.000\n",
       "23       54.000       53.000    49.000   49.000         50.000\n",
       "24       49.000       52.000    52.000   52.000         52.000\n",
       "25       54.000       51.000    45.000   50.000         46.000\n",
       "26       49.000       51.000    47.000   47.000         44.000\n",
       "27       56.000       48.000    52.000   50.000         51.000\n",
       "28       94.000       92.000    93.000   93.000         93.000\n",
       "29       99.000       98.000    98.000   98.000         98.000\n",
       "30       76.000       78.000    70.000   66.000         71.000\n",
       "31       58.000       55.000    64.000   59.000         59.000\n",
       "32       56.000       53.000    55.000   55.000         55.000\n",
       "33       99.000      100.000    99.000   99.000         99.000\n",
       "34       48.000       51.000    48.000   48.000         46.000\n",
       "35       52.000       46.000    47.000   54.000         48.000\n",
       "36       97.000       97.000    97.000   97.000         97.000\n",
       "37       93.000       92.000    93.000   93.000         93.000\n",
       "38       56.000       51.000    61.000   60.000         60.000\n",
       "39       64.000       71.000    79.000   74.000         76.000\n",
       "40       46.000       47.000    43.000   43.000         43.000\n",
       "41       62.000       54.000    56.000   53.000         56.000\n",
       "42       47.000       50.000    55.000   43.000         46.000\n",
       "43       77.000       83.000    83.000   83.000         83.000\n",
       "44       99.000       97.000    97.000   97.000         97.000\n",
       "45       93.000       97.000    94.000   93.000         94.000\n",
       "46       53.000       52.000    48.000   47.000         46.000\n",
       "47       44.000       53.000    49.000   52.000         56.000\n",
       "48       50.000       52.000    54.000   53.000         55.000\n",
       "49       63.000       50.000    50.000   50.000         50.000\n",
       "50       59.000       62.000    56.000   57.000         57.000\n",
       "51       71.000       68.000    64.000   64.000         64.000\n",
       "52       72.000       71.000    67.000   68.000         65.000\n",
       "53       50.000       55.000    54.000   52.000         54.000\n",
       "54       53.000       63.000    61.000   58.000         59.000\n",
       "Average  67.300       67.148    67.130   66.315         66.759\n",
       "p-values  1.000        0.746     0.597    0.113          0.196"
      ],
      "text/html": "<div>\n<style scoped>\n    .dataframe tbody tr th:only-of-type {\n        vertical-align: middle;\n    }\n\n    .dataframe tbody tr th {\n        vertical-align: top;\n    }\n\n    .dataframe thead th {\n        text-align: right;\n    }\n</style>\n<table border=\"1\" class=\"dataframe\">\n  <thead>\n    <tr style=\"text-align: right;\">\n      <th></th>\n      <th>Paper</th>\n      <th>Classic CSP</th>\n      <th>AIRM CSP</th>\n      <th>LEM CSP</th>\n      <th>Majority Vote</th>\n    </tr>\n  </thead>\n  <tbody>\n    <tr>\n      <th>1</th>\n      <td>61.000</td>\n      <td>77.000</td>\n      <td>68.000</td>\n      <td>63.000</td>\n      <td>69.000</td>\n    </tr>\n    <tr>\n      <th>2</th>\n      <td>96.000</td>\n      <td>94.000</td>\n      <td>94.000</td>\n      <td>94.000</td>\n      <td>94.000</td>\n    </tr>\n    <tr>\n      <th>3</th>\n      <td>95.000</td>\n      <td>94.000</td>\n      <td>92.000</td>\n      <td>94.000</td>\n      <td>94.000</td>\n    </tr>\n    <tr>\n      <th>4</th>\n      <td>53.000</td>\n      <td>54.000</td>\n      <td>51.000</td>\n      <td>49.000</td>\n      <td>51.000</td>\n    </tr>\n    <tr>\n      <th>5</th>\n      <td>94.000</td>\n      <td>88.000</td>\n      <td>88.000</td>\n      <td>88.000</td>\n      <td>88.000</td>\n    </tr>\n    <tr>\n      <th>6</th>\n      <td>77.000</td>\n      <td>69.000</td>\n      <td>74.000</td>\n      <td>76.000</td>\n      <td>74.000</td>\n    </tr>\n    <tr>\n      <th>7</th>\n      <td>49.000</td>\n      <td>54.000</td>\n      <td>54.000</td>\n      <td>52.000</td>\n      <td>54.000</td>\n    </tr>\n    <tr>\n      <th>8</th>\n      <td>57.000</td>\n      <td>61.000</td>\n      <td>56.000</td>\n      <td>57.000</td>\n      <td>58.000</td>\n    </tr>\n    <tr>\n      <th>9</th>\n      <td>86.000</td>\n      <td>81.000</td>\n      <td>81.000</td>\n      <td>78.000</td>\n      <td>80.000</td>\n    </tr>\n    <tr>\n      <th>10</th>\n      <td>65.000</td>\n      <td>66.000</td>\n      <td>64.000</td>\n      <td>57.000</td>\n      <td>61.000</td>\n    </tr>\n    <tr>\n      <th>11</th>\n      <td>47.000</td>\n      <td>47.000</td>\n      <td>53.000</td>\n      <td>51.000</td>\n      <td>51.000</td>\n    </tr>\n    <tr>\n      <th>12</th>\n      <td>46.000</td>\n      <td>50.000</td>\n      <td>48.000</td>\n      <td>50.000</td>\n      <td>50.000</td>\n    </tr>\n    <tr>\n      <th>13</th>\n      <td>56.000</td>\n      <td>51.000</td>\n      <td>54.000</td>\n      <td>51.000</td>\n      <td>52.000</td>\n    </tr>\n    <tr>\n      <th>14</th>\n      <td>58.000</td>\n      <td>56.000</td>\n      <td>54.000</td>\n      <td>56.000</td>\n      <td>54.000</td>\n    </tr>\n    <tr>\n      <th>15</th>\n      <td>55.000</td>\n      <td>52.000</td>\n      <td>55.000</td>\n      <td>52.000</td>\n      <td>53.000</td>\n    </tr>\n    <tr>\n      <th>16</th>\n      <td>53.000</td>\n      <td>53.000</td>\n      <td>59.000</td>\n      <td>57.000</td>\n      <td>56.000</td>\n    </tr>\n    <tr>\n      <th>17</th>\n      <td>83.000</td>\n      <td>82.000</td>\n      <td>82.000</td>\n      <td>79.000</td>\n      <td>81.000</td>\n    </tr>\n    <tr>\n      <th>18</th>\n      <td>92.000</td>\n      <td>88.000</td>\n      <td>91.000</td>\n      <td>91.000</td>\n      <td>91.000</td>\n    </tr>\n    <tr>\n      <th>19</th>\n      <td>82.000</td>\n      <td>84.000</td>\n      <td>80.000</td>\n      <td>83.000</td>\n      <td>83.000</td>\n    </tr>\n    <tr>\n      <th>20</th>\n      <td>59.000</td>\n      <td>56.000</td>\n      <td>57.000</td>\n      <td>57.000</td>\n      <td>58.000</td>\n    </tr>\n    <tr>\n      <th>21</th>\n      <td>98.000</td>\n      <td>96.000</td>\n      <td>97.000</td>\n      <td>97.000</td>\n      <td>97.000</td>\n    </tr>\n    <tr>\n      <th>22</th>\n      <td>77.000</td>\n      <td>80.000</td>\n      <td>93.000</td>\n      <td>92.000</td>\n      <td>93.000</td>\n    </tr>\n    <tr>\n      <th>23</th>\n      <td>54.000</td>\n      <td>53.000</td>\n      <td>49.000</td>\n      <td>49.000</td>\n      <td>50.000</td>\n    </tr>\n    <tr>\n      <th>24</th>\n      <td>49.000</td>\n      <td>52.000</td>\n      <td>52.000</td>\n      <td>52.000</td>\n      <td>52.000</td>\n    </tr>\n    <tr>\n      <th>25</th>\n      <td>54.000</td>\n      <td>51.000</td>\n      <td>45.000</td>\n      <td>50.000</td>\n      <td>46.000</td>\n    </tr>\n    <tr>\n      <th>26</th>\n      <td>49.000</td>\n      <td>51.000</td>\n      <td>47.000</td>\n      <td>47.000</td>\n      <td>44.000</td>\n    </tr>\n    <tr>\n      <th>27</th>\n      <td>56.000</td>\n      <td>48.000</td>\n      <td>52.000</td>\n      <td>50.000</td>\n      <td>51.000</td>\n    </tr>\n    <tr>\n      <th>28</th>\n      <td>94.000</td>\n      <td>92.000</td>\n      <td>93.000</td>\n      <td>93.000</td>\n      <td>93.000</td>\n    </tr>\n    <tr>\n      <th>29</th>\n      <td>99.000</td>\n      <td>98.000</td>\n      <td>98.000</td>\n      <td>98.000</td>\n      <td>98.000</td>\n    </tr>\n    <tr>\n      <th>30</th>\n      <td>76.000</td>\n      <td>78.000</td>\n      <td>70.000</td>\n      <td>66.000</td>\n      <td>71.000</td>\n    </tr>\n    <tr>\n      <th>31</th>\n      <td>58.000</td>\n      <td>55.000</td>\n      <td>64.000</td>\n      <td>59.000</td>\n      <td>59.000</td>\n    </tr>\n    <tr>\n      <th>32</th>\n      <td>56.000</td>\n      <td>53.000</td>\n      <td>55.000</td>\n      <td>55.000</td>\n      <td>55.000</td>\n    </tr>\n    <tr>\n      <th>33</th>\n      <td>99.000</td>\n      <td>100.000</td>\n      <td>99.000</td>\n      <td>99.000</td>\n      <td>99.000</td>\n    </tr>\n    <tr>\n      <th>34</th>\n      <td>48.000</td>\n      <td>51.000</td>\n      <td>48.000</td>\n      <td>48.000</td>\n      <td>46.000</td>\n    </tr>\n    <tr>\n      <th>35</th>\n      <td>52.000</td>\n      <td>46.000</td>\n      <td>47.000</td>\n      <td>54.000</td>\n      <td>48.000</td>\n    </tr>\n    <tr>\n      <th>36</th>\n      <td>97.000</td>\n      <td>97.000</td>\n      <td>97.000</td>\n      <td>97.000</td>\n      <td>97.000</td>\n    </tr>\n    <tr>\n      <th>37</th>\n      <td>93.000</td>\n      <td>92.000</td>\n      <td>93.000</td>\n      <td>93.000</td>\n      <td>93.000</td>\n    </tr>\n    <tr>\n      <th>38</th>\n      <td>56.000</td>\n      <td>51.000</td>\n      <td>61.000</td>\n      <td>60.000</td>\n      <td>60.000</td>\n    </tr>\n    <tr>\n      <th>39</th>\n      <td>64.000</td>\n      <td>71.000</td>\n      <td>79.000</td>\n      <td>74.000</td>\n      <td>76.000</td>\n    </tr>\n    <tr>\n      <th>40</th>\n      <td>46.000</td>\n      <td>47.000</td>\n      <td>43.000</td>\n      <td>43.000</td>\n      <td>43.000</td>\n    </tr>\n    <tr>\n      <th>41</th>\n      <td>62.000</td>\n      <td>54.000</td>\n      <td>56.000</td>\n      <td>53.000</td>\n      <td>56.000</td>\n    </tr>\n    <tr>\n      <th>42</th>\n      <td>47.000</td>\n      <td>50.000</td>\n      <td>55.000</td>\n      <td>43.000</td>\n      <td>46.000</td>\n    </tr>\n    <tr>\n      <th>43</th>\n      <td>77.000</td>\n      <td>83.000</td>\n      <td>83.000</td>\n      <td>83.000</td>\n      <td>83.000</td>\n    </tr>\n    <tr>\n      <th>44</th>\n      <td>99.000</td>\n      <td>97.000</td>\n      <td>97.000</td>\n      <td>97.000</td>\n      <td>97.000</td>\n    </tr>\n    <tr>\n      <th>45</th>\n      <td>93.000</td>\n      <td>97.000</td>\n      <td>94.000</td>\n      <td>93.000</td>\n      <td>94.000</td>\n    </tr>\n    <tr>\n      <th>46</th>\n      <td>53.000</td>\n      <td>52.000</td>\n      <td>48.000</td>\n      <td>47.000</td>\n      <td>46.000</td>\n    </tr>\n    <tr>\n      <th>47</th>\n      <td>44.000</td>\n      <td>53.000</td>\n      <td>49.000</td>\n      <td>52.000</td>\n      <td>56.000</td>\n    </tr>\n    <tr>\n      <th>48</th>\n      <td>50.000</td>\n      <td>52.000</td>\n      <td>54.000</td>\n      <td>53.000</td>\n      <td>55.000</td>\n    </tr>\n    <tr>\n      <th>49</th>\n      <td>63.000</td>\n      <td>50.000</td>\n      <td>50.000</td>\n      <td>50.000</td>\n      <td>50.000</td>\n    </tr>\n    <tr>\n      <th>50</th>\n      <td>59.000</td>\n      <td>62.000</td>\n      <td>56.000</td>\n      <td>57.000</td>\n      <td>57.000</td>\n    </tr>\n    <tr>\n      <th>51</th>\n      <td>71.000</td>\n      <td>68.000</td>\n      <td>64.000</td>\n      <td>64.000</td>\n      <td>64.000</td>\n    </tr>\n    <tr>\n      <th>52</th>\n      <td>72.000</td>\n      <td>71.000</td>\n      <td>67.000</td>\n      <td>68.000</td>\n      <td>65.000</td>\n    </tr>\n    <tr>\n      <th>53</th>\n      <td>50.000</td>\n      <td>55.000</td>\n      <td>54.000</td>\n      <td>52.000</td>\n      <td>54.000</td>\n    </tr>\n    <tr>\n      <th>54</th>\n      <td>53.000</td>\n      <td>63.000</td>\n      <td>61.000</td>\n      <td>58.000</td>\n      <td>59.000</td>\n    </tr>\n    <tr>\n      <th>Average</th>\n      <td>67.300</td>\n      <td>67.148</td>\n      <td>67.130</td>\n      <td>66.315</td>\n      <td>66.759</td>\n    </tr>\n    <tr>\n      <th>p-values</th>\n      <td>1.000</td>\n      <td>0.746</td>\n      <td>0.597</td>\n      <td>0.113</td>\n      <td>0.196</td>\n    </tr>\n  </tbody>\n</table>\n</div>"
     },
     "metadata": {},
     "execution_count": 17
    }
   ],
   "source": [
    "df = majority_vote(SubjectsCOV1, SubjectsY1, 4, paper_s1)\n",
    "df.head(56)"
   ]
  },
  {
   "cell_type": "markdown",
   "metadata": {},
   "source": [
    "#### N = 5"
   ]
  },
  {
   "cell_type": "code",
   "execution_count": 18,
   "metadata": {
    "scrolled": false
   },
   "outputs": [
    {
     "output_type": "execute_result",
     "data": {
      "text/plain": [
       "          Paper  Classic CSP  AIRM CSP  LEM CSP  Majority Vote\n",
       "1        61.000       64.000    69.000   64.000         68.000\n",
       "2        96.000       92.000    94.000   93.000         93.000\n",
       "3        95.000       93.000    92.000   92.000         92.000\n",
       "4        53.000       52.000    49.000   51.000         54.000\n",
       "5        94.000       87.000    86.000   86.000         86.000\n",
       "6        77.000       73.000    74.000   75.000         77.000\n",
       "7        49.000       54.000    53.000   51.000         53.000\n",
       "8        57.000       58.000    55.000   51.000         56.000\n",
       "9        86.000       85.000    83.000   77.000         83.000\n",
       "10       65.000       69.000    62.000   62.000         64.000\n",
       "11       47.000       47.000    63.000   55.000         55.000\n",
       "12       46.000       50.000    46.000   48.000         47.000\n",
       "13       56.000       50.000    55.000   51.000         51.000\n",
       "14       58.000       55.000    56.000   54.000         55.000\n",
       "15       55.000       58.000    55.000   53.000         55.000\n",
       "16       53.000       55.000    57.000   58.000         56.000\n",
       "17       83.000       79.000    83.000   81.000         82.000\n",
       "18       92.000       88.000    92.000   90.000         91.000\n",
       "19       82.000       86.000    82.000   85.000         85.000\n",
       "20       59.000       52.000    56.000   53.000         54.000\n",
       "21       98.000       96.000    95.000   96.000         96.000\n",
       "22       77.000       88.000    94.000   91.000         92.000\n",
       "23       54.000       54.000    50.000   53.000         51.000\n",
       "24       49.000       46.000    44.000   42.000         43.000\n",
       "25       54.000       48.000    47.000   46.000         45.000\n",
       "26       49.000       51.000    49.000   49.000         48.000\n",
       "27       56.000       48.000    53.000   59.000         58.000\n",
       "28       94.000       94.000    93.000   93.000         93.000\n",
       "29       99.000       97.000    97.000   99.000         98.000\n",
       "30       76.000       74.000    61.000   62.000         65.000\n",
       "31       58.000       61.000    66.000   53.000         63.000\n",
       "32       56.000       53.000    56.000   56.000         56.000\n",
       "33       99.000       92.000    98.000   97.000         97.000\n",
       "34       48.000       53.000    49.000   49.000         53.000\n",
       "35       52.000       49.000    46.000   49.000         49.000\n",
       "36       97.000       97.000    97.000   97.000         97.000\n",
       "37       93.000       90.000    92.000   94.000         93.000\n",
       "38       56.000       51.000    61.000   59.000         62.000\n",
       "39       64.000       68.000    76.000   75.000         76.000\n",
       "40       46.000       47.000    44.000   41.000         42.000\n",
       "41       62.000       53.000    54.000   50.000         54.000\n",
       "42       47.000       47.000    54.000   51.000         52.000\n",
       "43       77.000       82.000    84.000   83.000         86.000\n",
       "44       99.000       97.000    97.000   97.000         97.000\n",
       "45       93.000       95.000    91.000   91.000         91.000\n",
       "46       53.000       49.000    51.000   52.000         48.000\n",
       "47       44.000       51.000    52.000   52.000         51.000\n",
       "48       50.000       52.000    53.000   55.000         55.000\n",
       "49       63.000       51.000    50.000   50.000         50.000\n",
       "50       59.000       61.000    56.000   59.000         58.000\n",
       "51       71.000       63.000    65.000   66.000         64.000\n",
       "52       72.000       72.000    68.000   69.000         68.000\n",
       "53       50.000       52.000    51.000   51.000         51.000\n",
       "54       53.000       61.000    59.000   61.000         61.000\n",
       "Average  67.300       66.481    66.944   66.241         67.037\n",
       "p-values  1.000        0.227     0.375    0.143          0.587"
      ],
      "text/html": "<div>\n<style scoped>\n    .dataframe tbody tr th:only-of-type {\n        vertical-align: middle;\n    }\n\n    .dataframe tbody tr th {\n        vertical-align: top;\n    }\n\n    .dataframe thead th {\n        text-align: right;\n    }\n</style>\n<table border=\"1\" class=\"dataframe\">\n  <thead>\n    <tr style=\"text-align: right;\">\n      <th></th>\n      <th>Paper</th>\n      <th>Classic CSP</th>\n      <th>AIRM CSP</th>\n      <th>LEM CSP</th>\n      <th>Majority Vote</th>\n    </tr>\n  </thead>\n  <tbody>\n    <tr>\n      <th>1</th>\n      <td>61.000</td>\n      <td>64.000</td>\n      <td>69.000</td>\n      <td>64.000</td>\n      <td>68.000</td>\n    </tr>\n    <tr>\n      <th>2</th>\n      <td>96.000</td>\n      <td>92.000</td>\n      <td>94.000</td>\n      <td>93.000</td>\n      <td>93.000</td>\n    </tr>\n    <tr>\n      <th>3</th>\n      <td>95.000</td>\n      <td>93.000</td>\n      <td>92.000</td>\n      <td>92.000</td>\n      <td>92.000</td>\n    </tr>\n    <tr>\n      <th>4</th>\n      <td>53.000</td>\n      <td>52.000</td>\n      <td>49.000</td>\n      <td>51.000</td>\n      <td>54.000</td>\n    </tr>\n    <tr>\n      <th>5</th>\n      <td>94.000</td>\n      <td>87.000</td>\n      <td>86.000</td>\n      <td>86.000</td>\n      <td>86.000</td>\n    </tr>\n    <tr>\n      <th>6</th>\n      <td>77.000</td>\n      <td>73.000</td>\n      <td>74.000</td>\n      <td>75.000</td>\n      <td>77.000</td>\n    </tr>\n    <tr>\n      <th>7</th>\n      <td>49.000</td>\n      <td>54.000</td>\n      <td>53.000</td>\n      <td>51.000</td>\n      <td>53.000</td>\n    </tr>\n    <tr>\n      <th>8</th>\n      <td>57.000</td>\n      <td>58.000</td>\n      <td>55.000</td>\n      <td>51.000</td>\n      <td>56.000</td>\n    </tr>\n    <tr>\n      <th>9</th>\n      <td>86.000</td>\n      <td>85.000</td>\n      <td>83.000</td>\n      <td>77.000</td>\n      <td>83.000</td>\n    </tr>\n    <tr>\n      <th>10</th>\n      <td>65.000</td>\n      <td>69.000</td>\n      <td>62.000</td>\n      <td>62.000</td>\n      <td>64.000</td>\n    </tr>\n    <tr>\n      <th>11</th>\n      <td>47.000</td>\n      <td>47.000</td>\n      <td>63.000</td>\n      <td>55.000</td>\n      <td>55.000</td>\n    </tr>\n    <tr>\n      <th>12</th>\n      <td>46.000</td>\n      <td>50.000</td>\n      <td>46.000</td>\n      <td>48.000</td>\n      <td>47.000</td>\n    </tr>\n    <tr>\n      <th>13</th>\n      <td>56.000</td>\n      <td>50.000</td>\n      <td>55.000</td>\n      <td>51.000</td>\n      <td>51.000</td>\n    </tr>\n    <tr>\n      <th>14</th>\n      <td>58.000</td>\n      <td>55.000</td>\n      <td>56.000</td>\n      <td>54.000</td>\n      <td>55.000</td>\n    </tr>\n    <tr>\n      <th>15</th>\n      <td>55.000</td>\n      <td>58.000</td>\n      <td>55.000</td>\n      <td>53.000</td>\n      <td>55.000</td>\n    </tr>\n    <tr>\n      <th>16</th>\n      <td>53.000</td>\n      <td>55.000</td>\n      <td>57.000</td>\n      <td>58.000</td>\n      <td>56.000</td>\n    </tr>\n    <tr>\n      <th>17</th>\n      <td>83.000</td>\n      <td>79.000</td>\n      <td>83.000</td>\n      <td>81.000</td>\n      <td>82.000</td>\n    </tr>\n    <tr>\n      <th>18</th>\n      <td>92.000</td>\n      <td>88.000</td>\n      <td>92.000</td>\n      <td>90.000</td>\n      <td>91.000</td>\n    </tr>\n    <tr>\n      <th>19</th>\n      <td>82.000</td>\n      <td>86.000</td>\n      <td>82.000</td>\n      <td>85.000</td>\n      <td>85.000</td>\n    </tr>\n    <tr>\n      <th>20</th>\n      <td>59.000</td>\n      <td>52.000</td>\n      <td>56.000</td>\n      <td>53.000</td>\n      <td>54.000</td>\n    </tr>\n    <tr>\n      <th>21</th>\n      <td>98.000</td>\n      <td>96.000</td>\n      <td>95.000</td>\n      <td>96.000</td>\n      <td>96.000</td>\n    </tr>\n    <tr>\n      <th>22</th>\n      <td>77.000</td>\n      <td>88.000</td>\n      <td>94.000</td>\n      <td>91.000</td>\n      <td>92.000</td>\n    </tr>\n    <tr>\n      <th>23</th>\n      <td>54.000</td>\n      <td>54.000</td>\n      <td>50.000</td>\n      <td>53.000</td>\n      <td>51.000</td>\n    </tr>\n    <tr>\n      <th>24</th>\n      <td>49.000</td>\n      <td>46.000</td>\n      <td>44.000</td>\n      <td>42.000</td>\n      <td>43.000</td>\n    </tr>\n    <tr>\n      <th>25</th>\n      <td>54.000</td>\n      <td>48.000</td>\n      <td>47.000</td>\n      <td>46.000</td>\n      <td>45.000</td>\n    </tr>\n    <tr>\n      <th>26</th>\n      <td>49.000</td>\n      <td>51.000</td>\n      <td>49.000</td>\n      <td>49.000</td>\n      <td>48.000</td>\n    </tr>\n    <tr>\n      <th>27</th>\n      <td>56.000</td>\n      <td>48.000</td>\n      <td>53.000</td>\n      <td>59.000</td>\n      <td>58.000</td>\n    </tr>\n    <tr>\n      <th>28</th>\n      <td>94.000</td>\n      <td>94.000</td>\n      <td>93.000</td>\n      <td>93.000</td>\n      <td>93.000</td>\n    </tr>\n    <tr>\n      <th>29</th>\n      <td>99.000</td>\n      <td>97.000</td>\n      <td>97.000</td>\n      <td>99.000</td>\n      <td>98.000</td>\n    </tr>\n    <tr>\n      <th>30</th>\n      <td>76.000</td>\n      <td>74.000</td>\n      <td>61.000</td>\n      <td>62.000</td>\n      <td>65.000</td>\n    </tr>\n    <tr>\n      <th>31</th>\n      <td>58.000</td>\n      <td>61.000</td>\n      <td>66.000</td>\n      <td>53.000</td>\n      <td>63.000</td>\n    </tr>\n    <tr>\n      <th>32</th>\n      <td>56.000</td>\n      <td>53.000</td>\n      <td>56.000</td>\n      <td>56.000</td>\n      <td>56.000</td>\n    </tr>\n    <tr>\n      <th>33</th>\n      <td>99.000</td>\n      <td>92.000</td>\n      <td>98.000</td>\n      <td>97.000</td>\n      <td>97.000</td>\n    </tr>\n    <tr>\n      <th>34</th>\n      <td>48.000</td>\n      <td>53.000</td>\n      <td>49.000</td>\n      <td>49.000</td>\n      <td>53.000</td>\n    </tr>\n    <tr>\n      <th>35</th>\n      <td>52.000</td>\n      <td>49.000</td>\n      <td>46.000</td>\n      <td>49.000</td>\n      <td>49.000</td>\n    </tr>\n    <tr>\n      <th>36</th>\n      <td>97.000</td>\n      <td>97.000</td>\n      <td>97.000</td>\n      <td>97.000</td>\n      <td>97.000</td>\n    </tr>\n    <tr>\n      <th>37</th>\n      <td>93.000</td>\n      <td>90.000</td>\n      <td>92.000</td>\n      <td>94.000</td>\n      <td>93.000</td>\n    </tr>\n    <tr>\n      <th>38</th>\n      <td>56.000</td>\n      <td>51.000</td>\n      <td>61.000</td>\n      <td>59.000</td>\n      <td>62.000</td>\n    </tr>\n    <tr>\n      <th>39</th>\n      <td>64.000</td>\n      <td>68.000</td>\n      <td>76.000</td>\n      <td>75.000</td>\n      <td>76.000</td>\n    </tr>\n    <tr>\n      <th>40</th>\n      <td>46.000</td>\n      <td>47.000</td>\n      <td>44.000</td>\n      <td>41.000</td>\n      <td>42.000</td>\n    </tr>\n    <tr>\n      <th>41</th>\n      <td>62.000</td>\n      <td>53.000</td>\n      <td>54.000</td>\n      <td>50.000</td>\n      <td>54.000</td>\n    </tr>\n    <tr>\n      <th>42</th>\n      <td>47.000</td>\n      <td>47.000</td>\n      <td>54.000</td>\n      <td>51.000</td>\n      <td>52.000</td>\n    </tr>\n    <tr>\n      <th>43</th>\n      <td>77.000</td>\n      <td>82.000</td>\n      <td>84.000</td>\n      <td>83.000</td>\n      <td>86.000</td>\n    </tr>\n    <tr>\n      <th>44</th>\n      <td>99.000</td>\n      <td>97.000</td>\n      <td>97.000</td>\n      <td>97.000</td>\n      <td>97.000</td>\n    </tr>\n    <tr>\n      <th>45</th>\n      <td>93.000</td>\n      <td>95.000</td>\n      <td>91.000</td>\n      <td>91.000</td>\n      <td>91.000</td>\n    </tr>\n    <tr>\n      <th>46</th>\n      <td>53.000</td>\n      <td>49.000</td>\n      <td>51.000</td>\n      <td>52.000</td>\n      <td>48.000</td>\n    </tr>\n    <tr>\n      <th>47</th>\n      <td>44.000</td>\n      <td>51.000</td>\n      <td>52.000</td>\n      <td>52.000</td>\n      <td>51.000</td>\n    </tr>\n    <tr>\n      <th>48</th>\n      <td>50.000</td>\n      <td>52.000</td>\n      <td>53.000</td>\n      <td>55.000</td>\n      <td>55.000</td>\n    </tr>\n    <tr>\n      <th>49</th>\n      <td>63.000</td>\n      <td>51.000</td>\n      <td>50.000</td>\n      <td>50.000</td>\n      <td>50.000</td>\n    </tr>\n    <tr>\n      <th>50</th>\n      <td>59.000</td>\n      <td>61.000</td>\n      <td>56.000</td>\n      <td>59.000</td>\n      <td>58.000</td>\n    </tr>\n    <tr>\n      <th>51</th>\n      <td>71.000</td>\n      <td>63.000</td>\n      <td>65.000</td>\n      <td>66.000</td>\n      <td>64.000</td>\n    </tr>\n    <tr>\n      <th>52</th>\n      <td>72.000</td>\n      <td>72.000</td>\n      <td>68.000</td>\n      <td>69.000</td>\n      <td>68.000</td>\n    </tr>\n    <tr>\n      <th>53</th>\n      <td>50.000</td>\n      <td>52.000</td>\n      <td>51.000</td>\n      <td>51.000</td>\n      <td>51.000</td>\n    </tr>\n    <tr>\n      <th>54</th>\n      <td>53.000</td>\n      <td>61.000</td>\n      <td>59.000</td>\n      <td>61.000</td>\n      <td>61.000</td>\n    </tr>\n    <tr>\n      <th>Average</th>\n      <td>67.300</td>\n      <td>66.481</td>\n      <td>66.944</td>\n      <td>66.241</td>\n      <td>67.037</td>\n    </tr>\n    <tr>\n      <th>p-values</th>\n      <td>1.000</td>\n      <td>0.227</td>\n      <td>0.375</td>\n      <td>0.143</td>\n      <td>0.587</td>\n    </tr>\n  </tbody>\n</table>\n</div>"
     },
     "metadata": {},
     "execution_count": 18
    }
   ],
   "source": [
    "df = majority_vote(SubjectsCOV1, SubjectsY1, 5, paper_s1)\n",
    "df.head(56)"
   ]
  },
  {
   "cell_type": "markdown",
   "metadata": {},
   "source": [
    "### Session 2"
   ]
  },
  {
   "cell_type": "markdown",
   "metadata": {},
   "source": [
    "#### N=3"
   ]
  },
  {
   "cell_type": "code",
   "execution_count": 19,
   "metadata": {
    "scrolled": false
   },
   "outputs": [
    {
     "output_type": "execute_result",
     "data": {
      "text/plain": [
       "           Paper  Classic CSP  AIRM CSP  LEM CSP  Majority Vote\n",
       "1         83.000       80.000    78.000   77.000         79.000\n",
       "2         86.000       91.000    95.000   94.000         95.000\n",
       "3         94.000       94.000    94.000   95.000         94.000\n",
       "4         57.000       62.000    60.000   61.000         61.000\n",
       "5         81.000       81.000    77.000   81.000         80.000\n",
       "6         88.000       86.000    86.000   83.000         83.000\n",
       "7         71.000       70.000    63.000   61.000         63.000\n",
       "8         66.000       58.000    69.000   66.000         66.000\n",
       "9         71.000       65.000    73.000   71.000         71.000\n",
       "10        61.000       62.000    67.000   68.000         67.000\n",
       "11        59.000       50.000    50.000   50.000         50.000\n",
       "12        58.000       60.000    56.000   55.000         55.000\n",
       "13        54.000       51.000    50.000   50.000         51.000\n",
       "14        48.000       51.000    47.000   53.000         51.000\n",
       "15        57.000       56.000    54.000   54.000         54.000\n",
       "16        69.000       70.000    69.000   75.000         73.000\n",
       "17        42.000       59.000    68.000   66.000         66.000\n",
       "18        82.000       72.000    76.000   76.000         76.000\n",
       "19        89.000       79.000    80.000   81.000         81.000\n",
       "20        73.000       70.000    78.000   82.000         80.000\n",
       "21       100.000      100.000   100.000  100.000        100.000\n",
       "22        85.000       86.000    84.000   83.000         84.000\n",
       "23        68.000       71.000    68.000   63.000         67.000\n",
       "24        54.000       54.000    55.000   58.000         57.000\n",
       "25        57.000       59.000    56.000   58.000         57.000\n",
       "26        44.000       47.000    45.000   46.000         48.000\n",
       "27        70.000       52.000    55.000   52.000         54.000\n",
       "28        97.000       93.000    97.000   98.000         97.000\n",
       "29        98.000       98.000    98.000   98.000         98.000\n",
       "30        66.000       63.000    59.000   52.000         58.000\n",
       "31        57.000       63.000    68.000   63.000         67.000\n",
       "32        97.000       96.000    96.000   96.000         96.000\n",
       "33        89.000       98.000    95.000   95.000         95.000\n",
       "34        47.000       53.000    55.000   55.000         55.000\n",
       "35        52.000       55.000    53.000   58.000         57.000\n",
       "36        94.000       95.000    95.000   95.000         95.000\n",
       "37        81.000       89.000    88.000   88.000         88.000\n",
       "38        52.000       51.000    48.000   50.000         49.000\n",
       "39        52.000       62.000    84.000   86.000         87.000\n",
       "40        58.000       54.000    61.000   59.000         61.000\n",
       "41        48.000       43.000    52.000   54.000         53.000\n",
       "42        63.000       69.000    70.000   70.000         70.000\n",
       "43        86.000       84.000    80.000   80.000         81.000\n",
       "44       100.000      100.000   100.000  100.000        100.000\n",
       "45        99.000       99.000    99.000   99.000         99.000\n",
       "46        58.000       61.000    54.000   62.000         58.000\n",
       "47        59.000       60.000    58.000   61.000         58.000\n",
       "48        49.000       49.000    51.000   52.000         49.000\n",
       "49        62.000       55.000    59.000   59.000         59.000\n",
       "50        58.000       59.000    58.000   56.000         57.000\n",
       "51        52.000       55.000    53.000   52.000         53.000\n",
       "52        72.000       75.000    74.000   76.000         74.000\n",
       "53        54.000       47.000    53.000   57.000         55.000\n",
       "54        45.000       57.000    61.000   54.000         59.000\n",
       "Average   68.600       68.870    69.852   70.074         70.204\n",
       "p-values   1.000        0.818     0.647    0.222          0.271"
      ],
      "text/html": "<div>\n<style scoped>\n    .dataframe tbody tr th:only-of-type {\n        vertical-align: middle;\n    }\n\n    .dataframe tbody tr th {\n        vertical-align: top;\n    }\n\n    .dataframe thead th {\n        text-align: right;\n    }\n</style>\n<table border=\"1\" class=\"dataframe\">\n  <thead>\n    <tr style=\"text-align: right;\">\n      <th></th>\n      <th>Paper</th>\n      <th>Classic CSP</th>\n      <th>AIRM CSP</th>\n      <th>LEM CSP</th>\n      <th>Majority Vote</th>\n    </tr>\n  </thead>\n  <tbody>\n    <tr>\n      <th>1</th>\n      <td>83.000</td>\n      <td>80.000</td>\n      <td>78.000</td>\n      <td>77.000</td>\n      <td>79.000</td>\n    </tr>\n    <tr>\n      <th>2</th>\n      <td>86.000</td>\n      <td>91.000</td>\n      <td>95.000</td>\n      <td>94.000</td>\n      <td>95.000</td>\n    </tr>\n    <tr>\n      <th>3</th>\n      <td>94.000</td>\n      <td>94.000</td>\n      <td>94.000</td>\n      <td>95.000</td>\n      <td>94.000</td>\n    </tr>\n    <tr>\n      <th>4</th>\n      <td>57.000</td>\n      <td>62.000</td>\n      <td>60.000</td>\n      <td>61.000</td>\n      <td>61.000</td>\n    </tr>\n    <tr>\n      <th>5</th>\n      <td>81.000</td>\n      <td>81.000</td>\n      <td>77.000</td>\n      <td>81.000</td>\n      <td>80.000</td>\n    </tr>\n    <tr>\n      <th>6</th>\n      <td>88.000</td>\n      <td>86.000</td>\n      <td>86.000</td>\n      <td>83.000</td>\n      <td>83.000</td>\n    </tr>\n    <tr>\n      <th>7</th>\n      <td>71.000</td>\n      <td>70.000</td>\n      <td>63.000</td>\n      <td>61.000</td>\n      <td>63.000</td>\n    </tr>\n    <tr>\n      <th>8</th>\n      <td>66.000</td>\n      <td>58.000</td>\n      <td>69.000</td>\n      <td>66.000</td>\n      <td>66.000</td>\n    </tr>\n    <tr>\n      <th>9</th>\n      <td>71.000</td>\n      <td>65.000</td>\n      <td>73.000</td>\n      <td>71.000</td>\n      <td>71.000</td>\n    </tr>\n    <tr>\n      <th>10</th>\n      <td>61.000</td>\n      <td>62.000</td>\n      <td>67.000</td>\n      <td>68.000</td>\n      <td>67.000</td>\n    </tr>\n    <tr>\n      <th>11</th>\n      <td>59.000</td>\n      <td>50.000</td>\n      <td>50.000</td>\n      <td>50.000</td>\n      <td>50.000</td>\n    </tr>\n    <tr>\n      <th>12</th>\n      <td>58.000</td>\n      <td>60.000</td>\n      <td>56.000</td>\n      <td>55.000</td>\n      <td>55.000</td>\n    </tr>\n    <tr>\n      <th>13</th>\n      <td>54.000</td>\n      <td>51.000</td>\n      <td>50.000</td>\n      <td>50.000</td>\n      <td>51.000</td>\n    </tr>\n    <tr>\n      <th>14</th>\n      <td>48.000</td>\n      <td>51.000</td>\n      <td>47.000</td>\n      <td>53.000</td>\n      <td>51.000</td>\n    </tr>\n    <tr>\n      <th>15</th>\n      <td>57.000</td>\n      <td>56.000</td>\n      <td>54.000</td>\n      <td>54.000</td>\n      <td>54.000</td>\n    </tr>\n    <tr>\n      <th>16</th>\n      <td>69.000</td>\n      <td>70.000</td>\n      <td>69.000</td>\n      <td>75.000</td>\n      <td>73.000</td>\n    </tr>\n    <tr>\n      <th>17</th>\n      <td>42.000</td>\n      <td>59.000</td>\n      <td>68.000</td>\n      <td>66.000</td>\n      <td>66.000</td>\n    </tr>\n    <tr>\n      <th>18</th>\n      <td>82.000</td>\n      <td>72.000</td>\n      <td>76.000</td>\n      <td>76.000</td>\n      <td>76.000</td>\n    </tr>\n    <tr>\n      <th>19</th>\n      <td>89.000</td>\n      <td>79.000</td>\n      <td>80.000</td>\n      <td>81.000</td>\n      <td>81.000</td>\n    </tr>\n    <tr>\n      <th>20</th>\n      <td>73.000</td>\n      <td>70.000</td>\n      <td>78.000</td>\n      <td>82.000</td>\n      <td>80.000</td>\n    </tr>\n    <tr>\n      <th>21</th>\n      <td>100.000</td>\n      <td>100.000</td>\n      <td>100.000</td>\n      <td>100.000</td>\n      <td>100.000</td>\n    </tr>\n    <tr>\n      <th>22</th>\n      <td>85.000</td>\n      <td>86.000</td>\n      <td>84.000</td>\n      <td>83.000</td>\n      <td>84.000</td>\n    </tr>\n    <tr>\n      <th>23</th>\n      <td>68.000</td>\n      <td>71.000</td>\n      <td>68.000</td>\n      <td>63.000</td>\n      <td>67.000</td>\n    </tr>\n    <tr>\n      <th>24</th>\n      <td>54.000</td>\n      <td>54.000</td>\n      <td>55.000</td>\n      <td>58.000</td>\n      <td>57.000</td>\n    </tr>\n    <tr>\n      <th>25</th>\n      <td>57.000</td>\n      <td>59.000</td>\n      <td>56.000</td>\n      <td>58.000</td>\n      <td>57.000</td>\n    </tr>\n    <tr>\n      <th>26</th>\n      <td>44.000</td>\n      <td>47.000</td>\n      <td>45.000</td>\n      <td>46.000</td>\n      <td>48.000</td>\n    </tr>\n    <tr>\n      <th>27</th>\n      <td>70.000</td>\n      <td>52.000</td>\n      <td>55.000</td>\n      <td>52.000</td>\n      <td>54.000</td>\n    </tr>\n    <tr>\n      <th>28</th>\n      <td>97.000</td>\n      <td>93.000</td>\n      <td>97.000</td>\n      <td>98.000</td>\n      <td>97.000</td>\n    </tr>\n    <tr>\n      <th>29</th>\n      <td>98.000</td>\n      <td>98.000</td>\n      <td>98.000</td>\n      <td>98.000</td>\n      <td>98.000</td>\n    </tr>\n    <tr>\n      <th>30</th>\n      <td>66.000</td>\n      <td>63.000</td>\n      <td>59.000</td>\n      <td>52.000</td>\n      <td>58.000</td>\n    </tr>\n    <tr>\n      <th>31</th>\n      <td>57.000</td>\n      <td>63.000</td>\n      <td>68.000</td>\n      <td>63.000</td>\n      <td>67.000</td>\n    </tr>\n    <tr>\n      <th>32</th>\n      <td>97.000</td>\n      <td>96.000</td>\n      <td>96.000</td>\n      <td>96.000</td>\n      <td>96.000</td>\n    </tr>\n    <tr>\n      <th>33</th>\n      <td>89.000</td>\n      <td>98.000</td>\n      <td>95.000</td>\n      <td>95.000</td>\n      <td>95.000</td>\n    </tr>\n    <tr>\n      <th>34</th>\n      <td>47.000</td>\n      <td>53.000</td>\n      <td>55.000</td>\n      <td>55.000</td>\n      <td>55.000</td>\n    </tr>\n    <tr>\n      <th>35</th>\n      <td>52.000</td>\n      <td>55.000</td>\n      <td>53.000</td>\n      <td>58.000</td>\n      <td>57.000</td>\n    </tr>\n    <tr>\n      <th>36</th>\n      <td>94.000</td>\n      <td>95.000</td>\n      <td>95.000</td>\n      <td>95.000</td>\n      <td>95.000</td>\n    </tr>\n    <tr>\n      <th>37</th>\n      <td>81.000</td>\n      <td>89.000</td>\n      <td>88.000</td>\n      <td>88.000</td>\n      <td>88.000</td>\n    </tr>\n    <tr>\n      <th>38</th>\n      <td>52.000</td>\n      <td>51.000</td>\n      <td>48.000</td>\n      <td>50.000</td>\n      <td>49.000</td>\n    </tr>\n    <tr>\n      <th>39</th>\n      <td>52.000</td>\n      <td>62.000</td>\n      <td>84.000</td>\n      <td>86.000</td>\n      <td>87.000</td>\n    </tr>\n    <tr>\n      <th>40</th>\n      <td>58.000</td>\n      <td>54.000</td>\n      <td>61.000</td>\n      <td>59.000</td>\n      <td>61.000</td>\n    </tr>\n    <tr>\n      <th>41</th>\n      <td>48.000</td>\n      <td>43.000</td>\n      <td>52.000</td>\n      <td>54.000</td>\n      <td>53.000</td>\n    </tr>\n    <tr>\n      <th>42</th>\n      <td>63.000</td>\n      <td>69.000</td>\n      <td>70.000</td>\n      <td>70.000</td>\n      <td>70.000</td>\n    </tr>\n    <tr>\n      <th>43</th>\n      <td>86.000</td>\n      <td>84.000</td>\n      <td>80.000</td>\n      <td>80.000</td>\n      <td>81.000</td>\n    </tr>\n    <tr>\n      <th>44</th>\n      <td>100.000</td>\n      <td>100.000</td>\n      <td>100.000</td>\n      <td>100.000</td>\n      <td>100.000</td>\n    </tr>\n    <tr>\n      <th>45</th>\n      <td>99.000</td>\n      <td>99.000</td>\n      <td>99.000</td>\n      <td>99.000</td>\n      <td>99.000</td>\n    </tr>\n    <tr>\n      <th>46</th>\n      <td>58.000</td>\n      <td>61.000</td>\n      <td>54.000</td>\n      <td>62.000</td>\n      <td>58.000</td>\n    </tr>\n    <tr>\n      <th>47</th>\n      <td>59.000</td>\n      <td>60.000</td>\n      <td>58.000</td>\n      <td>61.000</td>\n      <td>58.000</td>\n    </tr>\n    <tr>\n      <th>48</th>\n      <td>49.000</td>\n      <td>49.000</td>\n      <td>51.000</td>\n      <td>52.000</td>\n      <td>49.000</td>\n    </tr>\n    <tr>\n      <th>49</th>\n      <td>62.000</td>\n      <td>55.000</td>\n      <td>59.000</td>\n      <td>59.000</td>\n      <td>59.000</td>\n    </tr>\n    <tr>\n      <th>50</th>\n      <td>58.000</td>\n      <td>59.000</td>\n      <td>58.000</td>\n      <td>56.000</td>\n      <td>57.000</td>\n    </tr>\n    <tr>\n      <th>51</th>\n      <td>52.000</td>\n      <td>55.000</td>\n      <td>53.000</td>\n      <td>52.000</td>\n      <td>53.000</td>\n    </tr>\n    <tr>\n      <th>52</th>\n      <td>72.000</td>\n      <td>75.000</td>\n      <td>74.000</td>\n      <td>76.000</td>\n      <td>74.000</td>\n    </tr>\n    <tr>\n      <th>53</th>\n      <td>54.000</td>\n      <td>47.000</td>\n      <td>53.000</td>\n      <td>57.000</td>\n      <td>55.000</td>\n    </tr>\n    <tr>\n      <th>54</th>\n      <td>45.000</td>\n      <td>57.000</td>\n      <td>61.000</td>\n      <td>54.000</td>\n      <td>59.000</td>\n    </tr>\n    <tr>\n      <th>Average</th>\n      <td>68.600</td>\n      <td>68.870</td>\n      <td>69.852</td>\n      <td>70.074</td>\n      <td>70.204</td>\n    </tr>\n    <tr>\n      <th>p-values</th>\n      <td>1.000</td>\n      <td>0.818</td>\n      <td>0.647</td>\n      <td>0.222</td>\n      <td>0.271</td>\n    </tr>\n  </tbody>\n</table>\n</div>"
     },
     "metadata": {},
     "execution_count": 19
    }
   ],
   "source": [
    "df = majority_vote(SubjectsCOV2, SubjectsY2, 3, paper_s2)\n",
    "df.head(56)"
   ]
  },
  {
   "cell_type": "markdown",
   "metadata": {},
   "source": [
    "#### N=4"
   ]
  },
  {
   "cell_type": "code",
   "execution_count": 20,
   "metadata": {
    "scrolled": false
   },
   "outputs": [
    {
     "output_type": "execute_result",
     "data": {
      "text/plain": [
       "           Paper  Classic CSP  AIRM CSP  LEM CSP  Majority Vote\n",
       "1         83.000       77.000    80.000   79.000         80.000\n",
       "2         86.000       87.000    94.000   94.000         94.000\n",
       "3         94.000       85.000    91.000   91.000         91.000\n",
       "4         57.000       60.000    61.000   62.000         62.000\n",
       "5         81.000       86.000    80.000   81.000         81.000\n",
       "6         88.000       87.000    86.000   83.000         87.000\n",
       "7         71.000       65.000    67.000   66.000         67.000\n",
       "8         66.000       57.000    67.000   63.000         64.000\n",
       "9         71.000       68.000    73.000   73.000         72.000\n",
       "10        61.000       64.000    67.000   67.000         68.000\n",
       "11        59.000       51.000    50.000   50.000         50.000\n",
       "12        58.000       55.000    57.000   58.000         59.000\n",
       "13        54.000       51.000    52.000   50.000         48.000\n",
       "14        48.000       46.000    56.000   58.000         57.000\n",
       "15        57.000       64.000    60.000   59.000         60.000\n",
       "16        69.000       69.000    60.000   73.000         71.000\n",
       "17        42.000       71.000    77.000   76.000         78.000\n",
       "18        82.000       68.000    68.000   67.000         67.000\n",
       "19        89.000       80.000    83.000   78.000         84.000\n",
       "20        73.000       75.000    78.000   79.000         77.000\n",
       "21       100.000      100.000   100.000  100.000        100.000\n",
       "22        85.000       87.000    84.000   84.000         85.000\n",
       "23        68.000       68.000    57.000   59.000         61.000\n",
       "24        54.000       48.000    48.000   49.000         49.000\n",
       "25        57.000       57.000    55.000   59.000         58.000\n",
       "26        44.000       48.000    45.000   45.000         45.000\n",
       "27        70.000       59.000    50.000   54.000         54.000\n",
       "28        97.000       92.000    95.000   96.000         95.000\n",
       "29        98.000       98.000    98.000   98.000         98.000\n",
       "30        66.000       57.000    54.000   51.000         52.000\n",
       "31        57.000       62.000    62.000   62.000         62.000\n",
       "32        97.000       96.000    96.000   95.000         96.000\n",
       "33        89.000       97.000    99.000   99.000         99.000\n",
       "34        47.000       50.000    48.000   53.000         51.000\n",
       "35        52.000       53.000    53.000   54.000         52.000\n",
       "36        94.000       95.000    95.000   95.000         95.000\n",
       "37        81.000       88.000    86.000   85.000         85.000\n",
       "38        52.000       51.000    48.000   49.000         50.000\n",
       "39        52.000       69.000    88.000   87.000         89.000\n",
       "40        58.000       60.000    58.000   56.000         59.000\n",
       "41        48.000       52.000    56.000   58.000         55.000\n",
       "42        63.000       69.000    68.000   67.000         67.000\n",
       "43        86.000       82.000    85.000   83.000         85.000\n",
       "44       100.000      100.000   100.000  100.000        100.000\n",
       "45        99.000       97.000    98.000   99.000         98.000\n",
       "46        58.000       58.000    54.000   51.000         54.000\n",
       "47        59.000       60.000    58.000   62.000         59.000\n",
       "48        49.000       52.000    55.000   59.000         59.000\n",
       "49        62.000       61.000    56.000   58.000         57.000\n",
       "50        58.000       60.000    54.000   54.000         53.000\n",
       "51        52.000       54.000    52.000   53.000         51.000\n",
       "52        72.000       71.000    72.000   72.000         70.000\n",
       "53        54.000       54.000    54.000   59.000         56.000\n",
       "54        45.000       56.000    62.000   54.000         58.000\n",
       "Average   68.600       69.019    69.444   69.741         69.889\n",
       "p-values   1.000        0.991     0.869    0.622          0.714"
      ],
      "text/html": "<div>\n<style scoped>\n    .dataframe tbody tr th:only-of-type {\n        vertical-align: middle;\n    }\n\n    .dataframe tbody tr th {\n        vertical-align: top;\n    }\n\n    .dataframe thead th {\n        text-align: right;\n    }\n</style>\n<table border=\"1\" class=\"dataframe\">\n  <thead>\n    <tr style=\"text-align: right;\">\n      <th></th>\n      <th>Paper</th>\n      <th>Classic CSP</th>\n      <th>AIRM CSP</th>\n      <th>LEM CSP</th>\n      <th>Majority Vote</th>\n    </tr>\n  </thead>\n  <tbody>\n    <tr>\n      <th>1</th>\n      <td>83.000</td>\n      <td>77.000</td>\n      <td>80.000</td>\n      <td>79.000</td>\n      <td>80.000</td>\n    </tr>\n    <tr>\n      <th>2</th>\n      <td>86.000</td>\n      <td>87.000</td>\n      <td>94.000</td>\n      <td>94.000</td>\n      <td>94.000</td>\n    </tr>\n    <tr>\n      <th>3</th>\n      <td>94.000</td>\n      <td>85.000</td>\n      <td>91.000</td>\n      <td>91.000</td>\n      <td>91.000</td>\n    </tr>\n    <tr>\n      <th>4</th>\n      <td>57.000</td>\n      <td>60.000</td>\n      <td>61.000</td>\n      <td>62.000</td>\n      <td>62.000</td>\n    </tr>\n    <tr>\n      <th>5</th>\n      <td>81.000</td>\n      <td>86.000</td>\n      <td>80.000</td>\n      <td>81.000</td>\n      <td>81.000</td>\n    </tr>\n    <tr>\n      <th>6</th>\n      <td>88.000</td>\n      <td>87.000</td>\n      <td>86.000</td>\n      <td>83.000</td>\n      <td>87.000</td>\n    </tr>\n    <tr>\n      <th>7</th>\n      <td>71.000</td>\n      <td>65.000</td>\n      <td>67.000</td>\n      <td>66.000</td>\n      <td>67.000</td>\n    </tr>\n    <tr>\n      <th>8</th>\n      <td>66.000</td>\n      <td>57.000</td>\n      <td>67.000</td>\n      <td>63.000</td>\n      <td>64.000</td>\n    </tr>\n    <tr>\n      <th>9</th>\n      <td>71.000</td>\n      <td>68.000</td>\n      <td>73.000</td>\n      <td>73.000</td>\n      <td>72.000</td>\n    </tr>\n    <tr>\n      <th>10</th>\n      <td>61.000</td>\n      <td>64.000</td>\n      <td>67.000</td>\n      <td>67.000</td>\n      <td>68.000</td>\n    </tr>\n    <tr>\n      <th>11</th>\n      <td>59.000</td>\n      <td>51.000</td>\n      <td>50.000</td>\n      <td>50.000</td>\n      <td>50.000</td>\n    </tr>\n    <tr>\n      <th>12</th>\n      <td>58.000</td>\n      <td>55.000</td>\n      <td>57.000</td>\n      <td>58.000</td>\n      <td>59.000</td>\n    </tr>\n    <tr>\n      <th>13</th>\n      <td>54.000</td>\n      <td>51.000</td>\n      <td>52.000</td>\n      <td>50.000</td>\n      <td>48.000</td>\n    </tr>\n    <tr>\n      <th>14</th>\n      <td>48.000</td>\n      <td>46.000</td>\n      <td>56.000</td>\n      <td>58.000</td>\n      <td>57.000</td>\n    </tr>\n    <tr>\n      <th>15</th>\n      <td>57.000</td>\n      <td>64.000</td>\n      <td>60.000</td>\n      <td>59.000</td>\n      <td>60.000</td>\n    </tr>\n    <tr>\n      <th>16</th>\n      <td>69.000</td>\n      <td>69.000</td>\n      <td>60.000</td>\n      <td>73.000</td>\n      <td>71.000</td>\n    </tr>\n    <tr>\n      <th>17</th>\n      <td>42.000</td>\n      <td>71.000</td>\n      <td>77.000</td>\n      <td>76.000</td>\n      <td>78.000</td>\n    </tr>\n    <tr>\n      <th>18</th>\n      <td>82.000</td>\n      <td>68.000</td>\n      <td>68.000</td>\n      <td>67.000</td>\n      <td>67.000</td>\n    </tr>\n    <tr>\n      <th>19</th>\n      <td>89.000</td>\n      <td>80.000</td>\n      <td>83.000</td>\n      <td>78.000</td>\n      <td>84.000</td>\n    </tr>\n    <tr>\n      <th>20</th>\n      <td>73.000</td>\n      <td>75.000</td>\n      <td>78.000</td>\n      <td>79.000</td>\n      <td>77.000</td>\n    </tr>\n    <tr>\n      <th>21</th>\n      <td>100.000</td>\n      <td>100.000</td>\n      <td>100.000</td>\n      <td>100.000</td>\n      <td>100.000</td>\n    </tr>\n    <tr>\n      <th>22</th>\n      <td>85.000</td>\n      <td>87.000</td>\n      <td>84.000</td>\n      <td>84.000</td>\n      <td>85.000</td>\n    </tr>\n    <tr>\n      <th>23</th>\n      <td>68.000</td>\n      <td>68.000</td>\n      <td>57.000</td>\n      <td>59.000</td>\n      <td>61.000</td>\n    </tr>\n    <tr>\n      <th>24</th>\n      <td>54.000</td>\n      <td>48.000</td>\n      <td>48.000</td>\n      <td>49.000</td>\n      <td>49.000</td>\n    </tr>\n    <tr>\n      <th>25</th>\n      <td>57.000</td>\n      <td>57.000</td>\n      <td>55.000</td>\n      <td>59.000</td>\n      <td>58.000</td>\n    </tr>\n    <tr>\n      <th>26</th>\n      <td>44.000</td>\n      <td>48.000</td>\n      <td>45.000</td>\n      <td>45.000</td>\n      <td>45.000</td>\n    </tr>\n    <tr>\n      <th>27</th>\n      <td>70.000</td>\n      <td>59.000</td>\n      <td>50.000</td>\n      <td>54.000</td>\n      <td>54.000</td>\n    </tr>\n    <tr>\n      <th>28</th>\n      <td>97.000</td>\n      <td>92.000</td>\n      <td>95.000</td>\n      <td>96.000</td>\n      <td>95.000</td>\n    </tr>\n    <tr>\n      <th>29</th>\n      <td>98.000</td>\n      <td>98.000</td>\n      <td>98.000</td>\n      <td>98.000</td>\n      <td>98.000</td>\n    </tr>\n    <tr>\n      <th>30</th>\n      <td>66.000</td>\n      <td>57.000</td>\n      <td>54.000</td>\n      <td>51.000</td>\n      <td>52.000</td>\n    </tr>\n    <tr>\n      <th>31</th>\n      <td>57.000</td>\n      <td>62.000</td>\n      <td>62.000</td>\n      <td>62.000</td>\n      <td>62.000</td>\n    </tr>\n    <tr>\n      <th>32</th>\n      <td>97.000</td>\n      <td>96.000</td>\n      <td>96.000</td>\n      <td>95.000</td>\n      <td>96.000</td>\n    </tr>\n    <tr>\n      <th>33</th>\n      <td>89.000</td>\n      <td>97.000</td>\n      <td>99.000</td>\n      <td>99.000</td>\n      <td>99.000</td>\n    </tr>\n    <tr>\n      <th>34</th>\n      <td>47.000</td>\n      <td>50.000</td>\n      <td>48.000</td>\n      <td>53.000</td>\n      <td>51.000</td>\n    </tr>\n    <tr>\n      <th>35</th>\n      <td>52.000</td>\n      <td>53.000</td>\n      <td>53.000</td>\n      <td>54.000</td>\n      <td>52.000</td>\n    </tr>\n    <tr>\n      <th>36</th>\n      <td>94.000</td>\n      <td>95.000</td>\n      <td>95.000</td>\n      <td>95.000</td>\n      <td>95.000</td>\n    </tr>\n    <tr>\n      <th>37</th>\n      <td>81.000</td>\n      <td>88.000</td>\n      <td>86.000</td>\n      <td>85.000</td>\n      <td>85.000</td>\n    </tr>\n    <tr>\n      <th>38</th>\n      <td>52.000</td>\n      <td>51.000</td>\n      <td>48.000</td>\n      <td>49.000</td>\n      <td>50.000</td>\n    </tr>\n    <tr>\n      <th>39</th>\n      <td>52.000</td>\n      <td>69.000</td>\n      <td>88.000</td>\n      <td>87.000</td>\n      <td>89.000</td>\n    </tr>\n    <tr>\n      <th>40</th>\n      <td>58.000</td>\n      <td>60.000</td>\n      <td>58.000</td>\n      <td>56.000</td>\n      <td>59.000</td>\n    </tr>\n    <tr>\n      <th>41</th>\n      <td>48.000</td>\n      <td>52.000</td>\n      <td>56.000</td>\n      <td>58.000</td>\n      <td>55.000</td>\n    </tr>\n    <tr>\n      <th>42</th>\n      <td>63.000</td>\n      <td>69.000</td>\n      <td>68.000</td>\n      <td>67.000</td>\n      <td>67.000</td>\n    </tr>\n    <tr>\n      <th>43</th>\n      <td>86.000</td>\n      <td>82.000</td>\n      <td>85.000</td>\n      <td>83.000</td>\n      <td>85.000</td>\n    </tr>\n    <tr>\n      <th>44</th>\n      <td>100.000</td>\n      <td>100.000</td>\n      <td>100.000</td>\n      <td>100.000</td>\n      <td>100.000</td>\n    </tr>\n    <tr>\n      <th>45</th>\n      <td>99.000</td>\n      <td>97.000</td>\n      <td>98.000</td>\n      <td>99.000</td>\n      <td>98.000</td>\n    </tr>\n    <tr>\n      <th>46</th>\n      <td>58.000</td>\n      <td>58.000</td>\n      <td>54.000</td>\n      <td>51.000</td>\n      <td>54.000</td>\n    </tr>\n    <tr>\n      <th>47</th>\n      <td>59.000</td>\n      <td>60.000</td>\n      <td>58.000</td>\n      <td>62.000</td>\n      <td>59.000</td>\n    </tr>\n    <tr>\n      <th>48</th>\n      <td>49.000</td>\n      <td>52.000</td>\n      <td>55.000</td>\n      <td>59.000</td>\n      <td>59.000</td>\n    </tr>\n    <tr>\n      <th>49</th>\n      <td>62.000</td>\n      <td>61.000</td>\n      <td>56.000</td>\n      <td>58.000</td>\n      <td>57.000</td>\n    </tr>\n    <tr>\n      <th>50</th>\n      <td>58.000</td>\n      <td>60.000</td>\n      <td>54.000</td>\n      <td>54.000</td>\n      <td>53.000</td>\n    </tr>\n    <tr>\n      <th>51</th>\n      <td>52.000</td>\n      <td>54.000</td>\n      <td>52.000</td>\n      <td>53.000</td>\n      <td>51.000</td>\n    </tr>\n    <tr>\n      <th>52</th>\n      <td>72.000</td>\n      <td>71.000</td>\n      <td>72.000</td>\n      <td>72.000</td>\n      <td>70.000</td>\n    </tr>\n    <tr>\n      <th>53</th>\n      <td>54.000</td>\n      <td>54.000</td>\n      <td>54.000</td>\n      <td>59.000</td>\n      <td>56.000</td>\n    </tr>\n    <tr>\n      <th>54</th>\n      <td>45.000</td>\n      <td>56.000</td>\n      <td>62.000</td>\n      <td>54.000</td>\n      <td>58.000</td>\n    </tr>\n    <tr>\n      <th>Average</th>\n      <td>68.600</td>\n      <td>69.019</td>\n      <td>69.444</td>\n      <td>69.741</td>\n      <td>69.889</td>\n    </tr>\n    <tr>\n      <th>p-values</th>\n      <td>1.000</td>\n      <td>0.991</td>\n      <td>0.869</td>\n      <td>0.622</td>\n      <td>0.714</td>\n    </tr>\n  </tbody>\n</table>\n</div>"
     },
     "metadata": {},
     "execution_count": 20
    }
   ],
   "source": [
    "df = majority_vote(SubjectsCOV2, SubjectsY2, 4, paper_s2)\n",
    "df.head(56)"
   ]
  },
  {
   "cell_type": "markdown",
   "metadata": {},
   "source": [
    "#### N=5"
   ]
  },
  {
   "cell_type": "code",
   "execution_count": 21,
   "metadata": {
    "scrolled": false
   },
   "outputs": [
    {
     "output_type": "execute_result",
     "data": {
      "text/plain": [
       "           Paper  Classic CSP  AIRM CSP  LEM CSP  Majority Vote\n",
       "1         83.000       78.000    81.000   75.000         79.000\n",
       "2         86.000       89.000    93.000   94.000         94.000\n",
       "3         94.000       79.000    87.000   92.000         87.000\n",
       "4         57.000       61.000    65.000   63.000         66.000\n",
       "5         81.000       85.000    82.000   81.000         83.000\n",
       "6         88.000       87.000    85.000   82.000         85.000\n",
       "7         71.000       68.000    66.000   70.000         67.000\n",
       "8         66.000       61.000    63.000   64.000         62.000\n",
       "9         71.000       69.000    73.000   74.000         72.000\n",
       "10        61.000       62.000    65.000   69.000         68.000\n",
       "11        59.000       49.000    50.000   50.000         50.000\n",
       "12        58.000       60.000    55.000   54.000         56.000\n",
       "13        54.000       54.000    51.000   56.000         52.000\n",
       "14        48.000       52.000    55.000   59.000         59.000\n",
       "15        57.000       62.000    59.000   60.000         59.000\n",
       "16        69.000       68.000    63.000   73.000         73.000\n",
       "17        42.000       71.000    72.000   79.000         74.000\n",
       "18        82.000       66.000    65.000   62.000         64.000\n",
       "19        89.000       79.000    81.000   76.000         82.000\n",
       "20        73.000       74.000    75.000   75.000         75.000\n",
       "21       100.000      100.000   100.000  100.000        100.000\n",
       "22        85.000       86.000    80.000   86.000         84.000\n",
       "23        68.000       62.000    57.000   58.000         59.000\n",
       "24        54.000       44.000    50.000   51.000         50.000\n",
       "25        57.000       56.000    60.000   57.000         57.000\n",
       "26        44.000       49.000    46.000   47.000         46.000\n",
       "27        70.000       55.000    50.000   51.000         54.000\n",
       "28        97.000       93.000    97.000   97.000         97.000\n",
       "29        98.000       98.000    98.000   98.000         98.000\n",
       "30        66.000       58.000    56.000   55.000         57.000\n",
       "31        57.000       61.000    61.000   63.000         61.000\n",
       "32        97.000       94.000    96.000   95.000         96.000\n",
       "33        89.000       98.000    99.000   99.000        100.000\n",
       "34        47.000       48.000    41.000   54.000         51.000\n",
       "35        52.000       52.000    54.000   53.000         52.000\n",
       "36        94.000       95.000    95.000   95.000         95.000\n",
       "37        81.000       86.000    85.000   86.000         85.000\n",
       "38        52.000       48.000    48.000   46.000         46.000\n",
       "39        52.000       81.000    89.000   87.000         89.000\n",
       "40        58.000       59.000    61.000   59.000         57.000\n",
       "41        48.000       54.000    53.000   55.000         51.000\n",
       "42        63.000       67.000    65.000   66.000         68.000\n",
       "43        86.000       81.000    82.000   79.000         82.000\n",
       "44       100.000       99.000    99.000   99.000         99.000\n",
       "45        99.000       98.000    99.000   99.000         99.000\n",
       "46        58.000       53.000    50.000   50.000         50.000\n",
       "47        59.000       60.000    65.000   63.000         63.000\n",
       "48        49.000       50.000    55.000   55.000         55.000\n",
       "49        62.000       64.000    57.000   56.000         58.000\n",
       "50        58.000       55.000    58.000   58.000         58.000\n",
       "51        52.000       55.000    46.000   48.000         49.000\n",
       "52        72.000       69.000    70.000   69.000         70.000\n",
       "53        54.000       57.000    54.000   54.000         56.000\n",
       "54        45.000       59.000    59.000   57.000         58.000\n",
       "Average   68.600       68.852    68.907   69.500         69.574\n",
       "p-values   1.000        0.764     0.541    0.801          0.899"
      ],
      "text/html": "<div>\n<style scoped>\n    .dataframe tbody tr th:only-of-type {\n        vertical-align: middle;\n    }\n\n    .dataframe tbody tr th {\n        vertical-align: top;\n    }\n\n    .dataframe thead th {\n        text-align: right;\n    }\n</style>\n<table border=\"1\" class=\"dataframe\">\n  <thead>\n    <tr style=\"text-align: right;\">\n      <th></th>\n      <th>Paper</th>\n      <th>Classic CSP</th>\n      <th>AIRM CSP</th>\n      <th>LEM CSP</th>\n      <th>Majority Vote</th>\n    </tr>\n  </thead>\n  <tbody>\n    <tr>\n      <th>1</th>\n      <td>83.000</td>\n      <td>78.000</td>\n      <td>81.000</td>\n      <td>75.000</td>\n      <td>79.000</td>\n    </tr>\n    <tr>\n      <th>2</th>\n      <td>86.000</td>\n      <td>89.000</td>\n      <td>93.000</td>\n      <td>94.000</td>\n      <td>94.000</td>\n    </tr>\n    <tr>\n      <th>3</th>\n      <td>94.000</td>\n      <td>79.000</td>\n      <td>87.000</td>\n      <td>92.000</td>\n      <td>87.000</td>\n    </tr>\n    <tr>\n      <th>4</th>\n      <td>57.000</td>\n      <td>61.000</td>\n      <td>65.000</td>\n      <td>63.000</td>\n      <td>66.000</td>\n    </tr>\n    <tr>\n      <th>5</th>\n      <td>81.000</td>\n      <td>85.000</td>\n      <td>82.000</td>\n      <td>81.000</td>\n      <td>83.000</td>\n    </tr>\n    <tr>\n      <th>6</th>\n      <td>88.000</td>\n      <td>87.000</td>\n      <td>85.000</td>\n      <td>82.000</td>\n      <td>85.000</td>\n    </tr>\n    <tr>\n      <th>7</th>\n      <td>71.000</td>\n      <td>68.000</td>\n      <td>66.000</td>\n      <td>70.000</td>\n      <td>67.000</td>\n    </tr>\n    <tr>\n      <th>8</th>\n      <td>66.000</td>\n      <td>61.000</td>\n      <td>63.000</td>\n      <td>64.000</td>\n      <td>62.000</td>\n    </tr>\n    <tr>\n      <th>9</th>\n      <td>71.000</td>\n      <td>69.000</td>\n      <td>73.000</td>\n      <td>74.000</td>\n      <td>72.000</td>\n    </tr>\n    <tr>\n      <th>10</th>\n      <td>61.000</td>\n      <td>62.000</td>\n      <td>65.000</td>\n      <td>69.000</td>\n      <td>68.000</td>\n    </tr>\n    <tr>\n      <th>11</th>\n      <td>59.000</td>\n      <td>49.000</td>\n      <td>50.000</td>\n      <td>50.000</td>\n      <td>50.000</td>\n    </tr>\n    <tr>\n      <th>12</th>\n      <td>58.000</td>\n      <td>60.000</td>\n      <td>55.000</td>\n      <td>54.000</td>\n      <td>56.000</td>\n    </tr>\n    <tr>\n      <th>13</th>\n      <td>54.000</td>\n      <td>54.000</td>\n      <td>51.000</td>\n      <td>56.000</td>\n      <td>52.000</td>\n    </tr>\n    <tr>\n      <th>14</th>\n      <td>48.000</td>\n      <td>52.000</td>\n      <td>55.000</td>\n      <td>59.000</td>\n      <td>59.000</td>\n    </tr>\n    <tr>\n      <th>15</th>\n      <td>57.000</td>\n      <td>62.000</td>\n      <td>59.000</td>\n      <td>60.000</td>\n      <td>59.000</td>\n    </tr>\n    <tr>\n      <th>16</th>\n      <td>69.000</td>\n      <td>68.000</td>\n      <td>63.000</td>\n      <td>73.000</td>\n      <td>73.000</td>\n    </tr>\n    <tr>\n      <th>17</th>\n      <td>42.000</td>\n      <td>71.000</td>\n      <td>72.000</td>\n      <td>79.000</td>\n      <td>74.000</td>\n    </tr>\n    <tr>\n      <th>18</th>\n      <td>82.000</td>\n      <td>66.000</td>\n      <td>65.000</td>\n      <td>62.000</td>\n      <td>64.000</td>\n    </tr>\n    <tr>\n      <th>19</th>\n      <td>89.000</td>\n      <td>79.000</td>\n      <td>81.000</td>\n      <td>76.000</td>\n      <td>82.000</td>\n    </tr>\n    <tr>\n      <th>20</th>\n      <td>73.000</td>\n      <td>74.000</td>\n      <td>75.000</td>\n      <td>75.000</td>\n      <td>75.000</td>\n    </tr>\n    <tr>\n      <th>21</th>\n      <td>100.000</td>\n      <td>100.000</td>\n      <td>100.000</td>\n      <td>100.000</td>\n      <td>100.000</td>\n    </tr>\n    <tr>\n      <th>22</th>\n      <td>85.000</td>\n      <td>86.000</td>\n      <td>80.000</td>\n      <td>86.000</td>\n      <td>84.000</td>\n    </tr>\n    <tr>\n      <th>23</th>\n      <td>68.000</td>\n      <td>62.000</td>\n      <td>57.000</td>\n      <td>58.000</td>\n      <td>59.000</td>\n    </tr>\n    <tr>\n      <th>24</th>\n      <td>54.000</td>\n      <td>44.000</td>\n      <td>50.000</td>\n      <td>51.000</td>\n      <td>50.000</td>\n    </tr>\n    <tr>\n      <th>25</th>\n      <td>57.000</td>\n      <td>56.000</td>\n      <td>60.000</td>\n      <td>57.000</td>\n      <td>57.000</td>\n    </tr>\n    <tr>\n      <th>26</th>\n      <td>44.000</td>\n      <td>49.000</td>\n      <td>46.000</td>\n      <td>47.000</td>\n      <td>46.000</td>\n    </tr>\n    <tr>\n      <th>27</th>\n      <td>70.000</td>\n      <td>55.000</td>\n      <td>50.000</td>\n      <td>51.000</td>\n      <td>54.000</td>\n    </tr>\n    <tr>\n      <th>28</th>\n      <td>97.000</td>\n      <td>93.000</td>\n      <td>97.000</td>\n      <td>97.000</td>\n      <td>97.000</td>\n    </tr>\n    <tr>\n      <th>29</th>\n      <td>98.000</td>\n      <td>98.000</td>\n      <td>98.000</td>\n      <td>98.000</td>\n      <td>98.000</td>\n    </tr>\n    <tr>\n      <th>30</th>\n      <td>66.000</td>\n      <td>58.000</td>\n      <td>56.000</td>\n      <td>55.000</td>\n      <td>57.000</td>\n    </tr>\n    <tr>\n      <th>31</th>\n      <td>57.000</td>\n      <td>61.000</td>\n      <td>61.000</td>\n      <td>63.000</td>\n      <td>61.000</td>\n    </tr>\n    <tr>\n      <th>32</th>\n      <td>97.000</td>\n      <td>94.000</td>\n      <td>96.000</td>\n      <td>95.000</td>\n      <td>96.000</td>\n    </tr>\n    <tr>\n      <th>33</th>\n      <td>89.000</td>\n      <td>98.000</td>\n      <td>99.000</td>\n      <td>99.000</td>\n      <td>100.000</td>\n    </tr>\n    <tr>\n      <th>34</th>\n      <td>47.000</td>\n      <td>48.000</td>\n      <td>41.000</td>\n      <td>54.000</td>\n      <td>51.000</td>\n    </tr>\n    <tr>\n      <th>35</th>\n      <td>52.000</td>\n      <td>52.000</td>\n      <td>54.000</td>\n      <td>53.000</td>\n      <td>52.000</td>\n    </tr>\n    <tr>\n      <th>36</th>\n      <td>94.000</td>\n      <td>95.000</td>\n      <td>95.000</td>\n      <td>95.000</td>\n      <td>95.000</td>\n    </tr>\n    <tr>\n      <th>37</th>\n      <td>81.000</td>\n      <td>86.000</td>\n      <td>85.000</td>\n      <td>86.000</td>\n      <td>85.000</td>\n    </tr>\n    <tr>\n      <th>38</th>\n      <td>52.000</td>\n      <td>48.000</td>\n      <td>48.000</td>\n      <td>46.000</td>\n      <td>46.000</td>\n    </tr>\n    <tr>\n      <th>39</th>\n      <td>52.000</td>\n      <td>81.000</td>\n      <td>89.000</td>\n      <td>87.000</td>\n      <td>89.000</td>\n    </tr>\n    <tr>\n      <th>40</th>\n      <td>58.000</td>\n      <td>59.000</td>\n      <td>61.000</td>\n      <td>59.000</td>\n      <td>57.000</td>\n    </tr>\n    <tr>\n      <th>41</th>\n      <td>48.000</td>\n      <td>54.000</td>\n      <td>53.000</td>\n      <td>55.000</td>\n      <td>51.000</td>\n    </tr>\n    <tr>\n      <th>42</th>\n      <td>63.000</td>\n      <td>67.000</td>\n      <td>65.000</td>\n      <td>66.000</td>\n      <td>68.000</td>\n    </tr>\n    <tr>\n      <th>43</th>\n      <td>86.000</td>\n      <td>81.000</td>\n      <td>82.000</td>\n      <td>79.000</td>\n      <td>82.000</td>\n    </tr>\n    <tr>\n      <th>44</th>\n      <td>100.000</td>\n      <td>99.000</td>\n      <td>99.000</td>\n      <td>99.000</td>\n      <td>99.000</td>\n    </tr>\n    <tr>\n      <th>45</th>\n      <td>99.000</td>\n      <td>98.000</td>\n      <td>99.000</td>\n      <td>99.000</td>\n      <td>99.000</td>\n    </tr>\n    <tr>\n      <th>46</th>\n      <td>58.000</td>\n      <td>53.000</td>\n      <td>50.000</td>\n      <td>50.000</td>\n      <td>50.000</td>\n    </tr>\n    <tr>\n      <th>47</th>\n      <td>59.000</td>\n      <td>60.000</td>\n      <td>65.000</td>\n      <td>63.000</td>\n      <td>63.000</td>\n    </tr>\n    <tr>\n      <th>48</th>\n      <td>49.000</td>\n      <td>50.000</td>\n      <td>55.000</td>\n      <td>55.000</td>\n      <td>55.000</td>\n    </tr>\n    <tr>\n      <th>49</th>\n      <td>62.000</td>\n      <td>64.000</td>\n      <td>57.000</td>\n      <td>56.000</td>\n      <td>58.000</td>\n    </tr>\n    <tr>\n      <th>50</th>\n      <td>58.000</td>\n      <td>55.000</td>\n      <td>58.000</td>\n      <td>58.000</td>\n      <td>58.000</td>\n    </tr>\n    <tr>\n      <th>51</th>\n      <td>52.000</td>\n      <td>55.000</td>\n      <td>46.000</td>\n      <td>48.000</td>\n      <td>49.000</td>\n    </tr>\n    <tr>\n      <th>52</th>\n      <td>72.000</td>\n      <td>69.000</td>\n      <td>70.000</td>\n      <td>69.000</td>\n      <td>70.000</td>\n    </tr>\n    <tr>\n      <th>53</th>\n      <td>54.000</td>\n      <td>57.000</td>\n      <td>54.000</td>\n      <td>54.000</td>\n      <td>56.000</td>\n    </tr>\n    <tr>\n      <th>54</th>\n      <td>45.000</td>\n      <td>59.000</td>\n      <td>59.000</td>\n      <td>57.000</td>\n      <td>58.000</td>\n    </tr>\n    <tr>\n      <th>Average</th>\n      <td>68.600</td>\n      <td>68.852</td>\n      <td>68.907</td>\n      <td>69.500</td>\n      <td>69.574</td>\n    </tr>\n    <tr>\n      <th>p-values</th>\n      <td>1.000</td>\n      <td>0.764</td>\n      <td>0.541</td>\n      <td>0.801</td>\n      <td>0.899</td>\n    </tr>\n  </tbody>\n</table>\n</div>"
     },
     "metadata": {},
     "execution_count": 21
    }
   ],
   "source": [
    "df = majority_vote(SubjectsCOV2, SubjectsY2, 5, paper_s2)\n",
    "df.head(56)"
   ]
  },
  {
   "cell_type": "markdown",
   "metadata": {},
   "source": [
    "## Subject-Independent"
   ]
  },
  {
   "source": [
    "#### We don't have subject-independent baseline results from the paper, so Wilcoxon SR test compares my implementation of Classic CSP with everything else."
   ],
   "cell_type": "markdown",
   "metadata": {}
  },
  {
   "cell_type": "code",
   "execution_count": 25,
   "metadata": {},
   "outputs": [],
   "source": [
    "from copy import deepcopy"
   ]
  },
  {
   "cell_type": "code",
   "execution_count": null,
   "metadata": {},
   "outputs": [],
   "source": [
    "def majority_vote_subjectindependent(SubjectsCOV, SubjectsY, n):\n",
    "    df = pd.DataFrame(index=list(range(1, 55))+['Average', 'p-value'], columns=['Classic CSP', 'AIRM CSP', 'LEM CSP', 'Majority Vote'])\n",
    "    \n",
    "    c_results = [] #very sloppy coding, did not prioritize clean code\n",
    "    a_results = []\n",
    "    l_results = []\n",
    "    m_results = []\n",
    "    \n",
    "    for i in range(len(SubjectsCOV)):\n",
    "        SC = deepcopy(SubjectsCOV)\n",
    "        SY = deepcopy(SubjectsY)\n",
    "            \n",
    "        testCOV = SC.pop(i)\n",
    "        testY = SY.pop(i)\n",
    "            \n",
    "        trainCOV = None\n",
    "        trainY = None\n",
    "            \n",
    "        for j in range(len(SubjectsCOV)-1):\n",
    "            if trainCOV is None:\n",
    "                trainCOV = SC[j]\n",
    "                trainY = SY[j]\n",
    "            else:\n",
    "                trainCOV = np.concatenate((trainCOV, SC[j]))\n",
    "                trainY = np.concatenate((trainY, SY[j]))\n",
    "\n",
    "        c_csp.train(trainCOV, trainY, n=n)\n",
    "        c_res = c_csp.predict(testCOV)\n",
    "\n",
    "        airm_csp.train(trainCOV, trainY, n=n)\n",
    "        a_res = airm_csp.predict(testCOV)\n",
    "\n",
    "        lem_csp.train(trainCOV, trainY, n=n)\n",
    "        l_res = lem_csp.predict(testCOV)\n",
    "\n",
    "        res = np.column_stack((c_res, a_res, l_res))\n",
    "        N = len(res)\n",
    "\n",
    "        majority = np.empty(N, dtype='uint8')\n",
    "\n",
    "        for j in range(N):\n",
    "            majority[j] = np.argmax(np.bincount(res[j]))\n",
    "    \n",
    "        c_results.append(count_accuracy(c_res, testY))\n",
    "        a_results.append(count_accuracy(a_res, testY))\n",
    "        l_results.append(count_accuracy(l_res, testY))\n",
    "        m_results.append(count_accuracy(majority, testY))\n",
    "    \n",
    "    c_results.append(sum(c_results)/len(c_results))\n",
    "\n",
    "    a_results.append(sum(a_results)/len(a_results))\n",
    "    _, pval = wilcoxon(a_results[:-1], c_results[:-1])\n",
    "    a_results.append(pval)\n",
    "\n",
    "\n",
    "    l_results.append(sum(l_results)/len(l_results))\n",
    "    _, pval = wilcoxon(l_results[:-1], c_results[:-1])\n",
    "    l_results.append(pval)\n",
    "\n",
    "    m_results.append(sum(m_results)/len(m_results))\n",
    "    _, pval = wilcoxon(m_results[:-1], c_results[:-1])\n",
    "    m_results.append(pval)\n",
    "\n",
    "    \n",
    "    df['Classic CSP'] = c_results + [None]\n",
    "    df['AIRM CSP'] = a_results\n",
    "    df['LEM CSP'] = l_results\n",
    "    df['Majority Vote'] = m_results\n",
    "    \n",
    "    return df"
   ]
  },
  {
   "cell_type": "markdown",
   "metadata": {},
   "source": [
    "### Session 1"
   ]
  },
  {
   "cell_type": "markdown",
   "metadata": {},
   "source": [
    "#### N = 3"
   ]
  },
  {
   "cell_type": "code",
   "execution_count": 8,
   "metadata": {
    "scrolled": true
   },
   "outputs": [
    {
     "output_type": "error",
     "ename": "ValueError",
     "evalue": "zero_method 'wilcox' and 'pratt' do not work if x - y is zero for all elements.",
     "traceback": [
      "\u001b[0;31m---------------------------------------------------------------------------\u001b[0m",
      "\u001b[0;31mValueError\u001b[0m                                Traceback (most recent call last)",
      "\u001b[0;32m<ipython-input-8-40a75f0d9d7e>\u001b[0m in \u001b[0;36m<module>\u001b[0;34m\u001b[0m\n\u001b[0;32m----> 1\u001b[0;31m \u001b[0mdf\u001b[0m \u001b[0;34m=\u001b[0m \u001b[0mmajority_vote_subjectindependent\u001b[0m\u001b[0;34m(\u001b[0m\u001b[0mSubjectsCOV1\u001b[0m\u001b[0;34m,\u001b[0m \u001b[0mSubjectsY1\u001b[0m\u001b[0;34m,\u001b[0m \u001b[0;36m3\u001b[0m\u001b[0;34m)\u001b[0m\u001b[0;34m\u001b[0m\u001b[0;34m\u001b[0m\u001b[0m\n\u001b[0m\u001b[1;32m      2\u001b[0m \u001b[0mdf\u001b[0m\u001b[0;34m.\u001b[0m\u001b[0mhead\u001b[0m\u001b[0;34m(\u001b[0m\u001b[0;36m56\u001b[0m\u001b[0;34m)\u001b[0m\u001b[0;34m\u001b[0m\u001b[0;34m\u001b[0m\u001b[0m\n",
      "\u001b[0;32m<ipython-input-7-0f4483e1d668>\u001b[0m in \u001b[0;36mmajority_vote_subjectindependent\u001b[0;34m(SubjectsCOV, SubjectsY, n)\u001b[0m\n\u001b[1;32m     48\u001b[0m \u001b[0;34m\u001b[0m\u001b[0m\n\u001b[1;32m     49\u001b[0m     \u001b[0mc_results\u001b[0m\u001b[0;34m.\u001b[0m\u001b[0mappend\u001b[0m\u001b[0;34m(\u001b[0m\u001b[0msum\u001b[0m\u001b[0;34m(\u001b[0m\u001b[0mc_results\u001b[0m\u001b[0;34m)\u001b[0m\u001b[0;34m/\u001b[0m\u001b[0mlen\u001b[0m\u001b[0;34m(\u001b[0m\u001b[0mc_results\u001b[0m\u001b[0;34m)\u001b[0m\u001b[0;34m)\u001b[0m\u001b[0;34m\u001b[0m\u001b[0;34m\u001b[0m\u001b[0m\n\u001b[0;32m---> 50\u001b[0;31m     \u001b[0m_\u001b[0m\u001b[0;34m,\u001b[0m \u001b[0mpval\u001b[0m \u001b[0;34m=\u001b[0m \u001b[0mwilcoxon\u001b[0m\u001b[0;34m(\u001b[0m\u001b[0mc_results\u001b[0m\u001b[0;34m[\u001b[0m\u001b[0;34m:\u001b[0m\u001b[0;34m-\u001b[0m\u001b[0;36m1\u001b[0m\u001b[0;34m]\u001b[0m\u001b[0;34m,\u001b[0m \u001b[0mc_results\u001b[0m\u001b[0;34m[\u001b[0m\u001b[0;34m:\u001b[0m\u001b[0;34m-\u001b[0m\u001b[0;36m1\u001b[0m\u001b[0;34m]\u001b[0m\u001b[0;34m)\u001b[0m\u001b[0;34m\u001b[0m\u001b[0;34m\u001b[0m\u001b[0m\n\u001b[0m\u001b[1;32m     51\u001b[0m     \u001b[0mc_results\u001b[0m\u001b[0;34m.\u001b[0m\u001b[0mappend\u001b[0m\u001b[0;34m(\u001b[0m\u001b[0mpval\u001b[0m\u001b[0;34m)\u001b[0m\u001b[0;34m\u001b[0m\u001b[0;34m\u001b[0m\u001b[0m\n\u001b[1;32m     52\u001b[0m \u001b[0;34m\u001b[0m\u001b[0m\n",
      "\u001b[0;32m/usr/local/lib/python3.8/dist-packages/scipy/stats/morestats.py\u001b[0m in \u001b[0;36mwilcoxon\u001b[0;34m(x, y, zero_method, correction, alternative, mode)\u001b[0m\n\u001b[1;32m   2971\u001b[0m         \u001b[0;32mif\u001b[0m \u001b[0mzero_method\u001b[0m \u001b[0;32min\u001b[0m \u001b[0;34m[\u001b[0m\u001b[0;34m\"wilcox\"\u001b[0m\u001b[0;34m,\u001b[0m \u001b[0;34m\"pratt\"\u001b[0m\u001b[0;34m]\u001b[0m\u001b[0;34m:\u001b[0m\u001b[0;34m\u001b[0m\u001b[0;34m\u001b[0m\u001b[0m\n\u001b[1;32m   2972\u001b[0m             \u001b[0;32mif\u001b[0m \u001b[0mn_zero\u001b[0m \u001b[0;34m==\u001b[0m \u001b[0mlen\u001b[0m\u001b[0;34m(\u001b[0m\u001b[0md\u001b[0m\u001b[0;34m)\u001b[0m\u001b[0;34m:\u001b[0m\u001b[0;34m\u001b[0m\u001b[0;34m\u001b[0m\u001b[0m\n\u001b[0;32m-> 2973\u001b[0;31m                 raise ValueError(\"zero_method 'wilcox' and 'pratt' do not \"\n\u001b[0m\u001b[1;32m   2974\u001b[0m                                  \"work if x - y is zero for all elements.\")\n\u001b[1;32m   2975\u001b[0m         \u001b[0;32mif\u001b[0m \u001b[0mzero_method\u001b[0m \u001b[0;34m==\u001b[0m \u001b[0;34m\"wilcox\"\u001b[0m\u001b[0;34m:\u001b[0m\u001b[0;34m\u001b[0m\u001b[0;34m\u001b[0m\u001b[0m\n",
      "\u001b[0;31mValueError\u001b[0m: zero_method 'wilcox' and 'pratt' do not work if x - y is zero for all elements."
     ]
    }
   ],
   "source": [
    "df = majority_vote_subjectindependent(SubjectsCOV1, SubjectsY1, 3)\n",
    "df.head(56)"
   ]
  },
  {
   "cell_type": "markdown",
   "metadata": {},
   "source": [
    "#### N = 4"
   ]
  },
  {
   "cell_type": "code",
   "execution_count": null,
   "metadata": {
    "scrolled": true
   },
   "outputs": [],
   "source": [
    "df = majority_vote_subjectindependent(SubjectsCOV1, SubjectsY1, 4)\n",
    "df.head(56)"
   ]
  },
  {
   "cell_type": "markdown",
   "metadata": {},
   "source": [
    "#### N = 5"
   ]
  },
  {
   "cell_type": "code",
   "execution_count": null,
   "metadata": {
    "scrolled": true
   },
   "outputs": [],
   "source": [
    "df = majority_vote_subjectindependent(SubjectsCOV1, SubjectsY1, 5)\n",
    "df.head(56)"
   ]
  },
  {
   "cell_type": "markdown",
   "metadata": {},
   "source": [
    "### Session 2"
   ]
  },
  {
   "cell_type": "markdown",
   "metadata": {},
   "source": [
    "#### N = 3"
   ]
  },
  {
   "cell_type": "code",
   "execution_count": null,
   "metadata": {
    "scrolled": true
   },
   "outputs": [],
   "source": [
    "df = majority_vote_subjectindependent(SubjectsCOV2, SubjectsY2, 3)\n",
    "df.head(56)"
   ]
  },
  {
   "cell_type": "markdown",
   "metadata": {},
   "source": [
    "#### N =4 "
   ]
  },
  {
   "cell_type": "code",
   "execution_count": null,
   "metadata": {
    "scrolled": true
   },
   "outputs": [],
   "source": [
    "df = majority_vote_subjectindependent(SubjectsCOV2, SubjectsY2, 4)\n",
    "df.head(56)"
   ]
  },
  {
   "cell_type": "markdown",
   "metadata": {},
   "source": [
    "#### N =5 "
   ]
  },
  {
   "cell_type": "code",
   "execution_count": null,
   "metadata": {
    "scrolled": true
   },
   "outputs": [],
   "source": [
    "df = majority_vote_subjectindependent(SubjectsCOV2, SubjectsY2, 5)\n",
    "df.head(56)"
   ]
  },
  {
   "cell_type": "markdown",
   "metadata": {},
   "source": [
    "# Majority Vote with models with different hyperparameters"
   ]
  },
  {
   "cell_type": "markdown",
   "metadata": {},
   "source": [
    "## Subject-dependent"
   ]
  },
  {
   "cell_type": "code",
   "execution_count": null,
   "metadata": {},
   "outputs": [],
   "source": [
    "def majority_vote_hp(SubjectsCOV, SubjectsY, n_lowerlimit, n_higherlimit, papervals):\n",
    "    df = pd.DataFrame(index=list(range(1, 55))+['Average', 'p-value'], columns=['Paper', 'Majority Vote 2'])\n",
    "    \n",
    "    m_results = []\n",
    "    \n",
    "    for i in range(len(SubjectsCOV)):\n",
    "        COVi = SubjectsCOV[i]\n",
    "        Yi = SubjectsY[i]\n",
    "\n",
    "        trainCOV = COVi[:100]\n",
    "        trainY = Yi[:100]\n",
    "\n",
    "        testCOV = COVi[100:] \n",
    "        testY = Yi[100:] \n",
    "        \n",
    "        res = np.empty((100, (n_higherlimit-n_lowerlimit+1)*3), dtype='uint8')\n",
    "        \n",
    "        c = 0\n",
    "        for n in range(n_lowerlimit, n_higherlimit+1):\n",
    "            c_csp.train(trainCOV, trainY, n=n)\n",
    "            c_res = c_csp.predict(testCOV)\n",
    "            res[:, c] = c_res\n",
    "            c+=1\n",
    "            \n",
    "            airm_csp.train(trainCOV, trainY, n=n)\n",
    "            a_res = airm_csp.predict(testCOV)\n",
    "            res[:,c] = a_res\n",
    "            c+=1\n",
    "            \n",
    "            lem_csp.train(trainCOV, trainY, n=n)\n",
    "            l_res = lem_csp.predict(testCOV)\n",
    "            res[:,c] = l_res\n",
    "            c+=1\n",
    "            \n",
    "        N = len(res)\n",
    "\n",
    "        majority = np.empty(N, dtype='uint8')\n",
    "\n",
    "        for j in range(N):\n",
    "            majority[j] = np.argmax(np.bincount(res[j]))\n",
    "    \n",
    "        m_results.append(count_accuracy(majority, testY))\n",
    "    \n",
    "    m_results.append(sum(m_results)/len(m_results))\n",
    "    _, pval = wilcoxon(papervals[:-1], m_results[:-1])\n",
    "    m_results.append(pval)\n",
    "\n",
    "    \n",
    "    df['Paper'] = papervals + [None]\n",
    "    df['Majority Vote 2'] = m_results\n",
    "    \n",
    "    return df"
   ]
  },
  {
   "cell_type": "markdown",
   "metadata": {},
   "source": [
    "### Session 1"
   ]
  },
  {
   "cell_type": "code",
   "execution_count": null,
   "metadata": {},
   "outputs": [],
   "source": [
    "df = majority_vote_hp(SubjectsCOV1, SubjectsY1, 3, 5, paper_s1)"
   ]
  },
  {
   "cell_type": "code",
   "execution_count": null,
   "metadata": {
    "scrolled": true
   },
   "outputs": [],
   "source": [
    "df.head(56)"
   ]
  },
  {
   "cell_type": "markdown",
   "metadata": {},
   "source": [
    "### Session 2"
   ]
  },
  {
   "cell_type": "code",
   "execution_count": null,
   "metadata": {},
   "outputs": [],
   "source": [
    "df = majority_vote_hp(SubjectsCOV2, SubjectsY2, 3, 5, paper_s2)"
   ]
  },
  {
   "cell_type": "code",
   "execution_count": null,
   "metadata": {
    "scrolled": true
   },
   "outputs": [],
   "source": [
    "df.head(56)"
   ]
  },
  {
   "cell_type": "markdown",
   "metadata": {},
   "source": [
    "# Bootstrap Mean Estimation"
   ]
  },
  {
   "cell_type": "code",
   "execution_count": 41,
   "metadata": {},
   "outputs": [],
   "source": [
    "class RCSP_bootstrap(RCSP):\n",
    "    def train(self, trainCOV, trainLabels, n=3, btsp_size=0.6, btsp_n=10):\n",
    "        btsp_means = np.zeros((2, btsp_n, self.nchannels, self.nchannels))\n",
    "        trials = len(trainCOV)\n",
    "        idxs = list(range(trials))\n",
    "        \n",
    "        for i in range(btsp_n):\n",
    "            idx = np.random.choice(idxs, int(btsp_size*trials))\n",
    "            subsetCOV = trainCOV[idx]\n",
    "            subsetY = trainLabels[idx]\n",
    "            \n",
    "            classSpecificCOV = self.separate_classes(subsetCOV, subsetY)\n",
    "            means = self.estimateMeans(classSpecificCOV)\n",
    "            btsp_means[0, i, :, :] = means[0]\n",
    "            btsp_means[1, i, :, :] = means[1]\n",
    "        \n",
    "        btsp_means = self.estimateMeans(btsp_means)\n",
    "        \n",
    "        V = self.CSP(btsp_means, n)\n",
    "        self.V=V\n",
    "        self.n=n\n",
    "        \n",
    "        train_features = np.empty((len(trainCOV), 2*n))\n",
    "        \n",
    "        for i in range(len(trainCOV)):\n",
    "            trial = trainCOV[i]\n",
    "            train_features[i] = self.applyCSP(trial, V)\n",
    "        \n",
    "        self.clf.fit(train_features, trainLabels)    "
   ]
  },
  {
   "cell_type": "code",
   "execution_count": 42,
   "metadata": {},
   "outputs": [],
   "source": [
    "c_rcsp_b = RCSP_bootstrap(\"classic\", 20, LDA)\n",
    "a_rcsp_b = RCSP_bootstrap(\"AIRM\", 20, LDA)\n",
    "l_rcsp_b = RCSP_bootstrap(\"LEM\", 20, LDA)"
   ]
  },
  {
   "cell_type": "code",
   "execution_count": 56,
   "metadata": {},
   "outputs": [],
   "source": [
    "def bootstrap_estimation(SubjectsCOV, SubjectsY, n, btsp_size, btsp_n, papervals, subject_independent=False):\n",
    "    df = pd.DataFrame(index=list(range(1, 55))+['Average', 'p-values'], columns=['Paper', 'Bootstraped Classic CSP', 'Bootstraped AIRM CSP', 'Bootstraped LEM CSP'])\n",
    "    \n",
    "    c_results = []\n",
    "    a_results = []\n",
    "    l_results = []\n",
    "    \n",
    "    for i in range(len(SubjectsCOV)):\n",
    "        if subject_independent:\n",
    "            \n",
    "            SC = deepcopy(SubjectsCOV)\n",
    "            SY = deepcopy(SubjectsY)    \n",
    "            testCOV = SC.pop(i)\n",
    "            testY = SY.pop(i)\n",
    "            \n",
    "            trainCOV = None\n",
    "            trainY = None\n",
    "            \n",
    "            for j in range(len(SubjectsCOV)-1):\n",
    "                if trainCOV is None:\n",
    "                    trainCOV = SC[j]\n",
    "                    trainY = SY[j]\n",
    "                else:\n",
    "                    trainCOV = np.concatenate((trainCOV, SC[j]))\n",
    "                    trainY = np.concatenate((trainY, SY[j]))\n",
    "        else:\n",
    "            COVi = SubjectsCOV[i]\n",
    "            Yi = SubjectsY[i]\n",
    "\n",
    "            trainCOV = COVi[:100]\n",
    "            trainY = Yi[:100]\n",
    "\n",
    "            testCOV = COVi[100:] \n",
    "            testY = Yi[100:] \n",
    "        \n",
    "        c_rcsp_b.train(trainCOV, trainY, n, btsp_size, btsp_n)\n",
    "        c_res = c_rcsp_b.predict(testCOV)\n",
    "        \n",
    "        a_rcsp_b.train(trainCOV, trainY, n, btsp_size, btsp_n)\n",
    "        a_res = a_rcsp_b.predict(testCOV)\n",
    "        \n",
    "        l_rcsp_b.train(trainCOV, trainY, n, btsp_size, btsp_n)\n",
    "        l_res = l_rcsp_b.predict(testCOV)\n",
    "        \n",
    "        c_results.append(count_accuracy(c_res, testY))\n",
    "        a_results.append(count_accuracy(a_res, testY))\n",
    "        l_results.append(count_accuracy(l_res, testY))\n",
    "        \n",
    "    c_results.append(sum(c_results)/len(c_results))\n",
    "    a_results.append(sum(a_results)/len(a_results))\n",
    "    l_results.append(sum(l_results)/len(l_results)) \n",
    "    \n",
    "    if not subject_independent:\n",
    "        c_results.append(wilcoxon(papervals[:-1], c_results[:-1])[1])\n",
    "        a_results.append(wilcoxon(papervals[:-1], a_results[:-1])[1])\n",
    "        l_results.append(wilcoxon(papervals[:-1], l_results[:-1])[1])\n",
    "    \n",
    "    df['Paper'] = papervals + [None]\n",
    "    df['Bootstraped Classic CSP'] = c_results\n",
    "    df['Bootstraped AIRM CSP'] = a_results\n",
    "    df['Bootstraped LEM CSP'] = l_results\n",
    "    \n",
    "    if subject_independent:\n",
    "        df = df.drop(['Paper'], axis=1)\n",
    "        df = df.drop(['p-values'], axis = 0)\n",
    "    return df\n",
    "        "
   ]
  },
  {
   "cell_type": "markdown",
   "metadata": {},
   "source": [
    "## Subject-Dependent"
   ]
  },
  {
   "cell_type": "markdown",
   "metadata": {},
   "source": [
    "### Session 1"
   ]
  },
  {
   "cell_type": "code",
   "execution_count": 57,
   "metadata": {
    "scrolled": true
   },
   "outputs": [
    {
     "output_type": "error",
     "ename": "ValueError",
     "evalue": "The samples x and y must have the same length.",
     "traceback": [
      "\u001b[0;31m---------------------------------------------------------------------------\u001b[0m",
      "\u001b[0;31mValueError\u001b[0m                                Traceback (most recent call last)",
      "\u001b[0;32m<ipython-input-57-0cd6f331ecf6>\u001b[0m in \u001b[0;36m<module>\u001b[0;34m\u001b[0m\n\u001b[0;32m----> 1\u001b[0;31m \u001b[0mdf\u001b[0m \u001b[0;34m=\u001b[0m \u001b[0mbootstrap_estimation\u001b[0m\u001b[0;34m(\u001b[0m\u001b[0mSubjectsCOV1\u001b[0m\u001b[0;34m,\u001b[0m \u001b[0mSubjectsY1\u001b[0m\u001b[0;34m,\u001b[0m \u001b[0mn\u001b[0m\u001b[0;34m=\u001b[0m\u001b[0;36m4\u001b[0m\u001b[0;34m,\u001b[0m \u001b[0mbtsp_size\u001b[0m\u001b[0;34m=\u001b[0m\u001b[0;36m0.8\u001b[0m\u001b[0;34m,\u001b[0m \u001b[0mbtsp_n\u001b[0m\u001b[0;34m=\u001b[0m\u001b[0;36m10\u001b[0m\u001b[0;34m,\u001b[0m \u001b[0mpapervals\u001b[0m \u001b[0;34m=\u001b[0m \u001b[0mpaper_s1\u001b[0m\u001b[0;34m,\u001b[0m \u001b[0msubject_independent\u001b[0m\u001b[0;34m=\u001b[0m\u001b[0;32mFalse\u001b[0m\u001b[0;34m)\u001b[0m\u001b[0;34m\u001b[0m\u001b[0;34m\u001b[0m\u001b[0m\n\u001b[0m\u001b[1;32m      2\u001b[0m \u001b[0mdf\u001b[0m\u001b[0;34m.\u001b[0m\u001b[0mhead\u001b[0m\u001b[0;34m(\u001b[0m\u001b[0;36m56\u001b[0m\u001b[0;34m)\u001b[0m\u001b[0;34m\u001b[0m\u001b[0;34m\u001b[0m\u001b[0m\n",
      "\u001b[0;32m<ipython-input-56-e73d91a453c3>\u001b[0m in \u001b[0;36mbootstrap_estimation\u001b[0;34m(SubjectsCOV, SubjectsY, n, btsp_size, btsp_n, papervals, subject_independent)\u001b[0m\n\u001b[1;32m     54\u001b[0m         \u001b[0mc_results\u001b[0m\u001b[0;34m.\u001b[0m\u001b[0mappend\u001b[0m\u001b[0;34m(\u001b[0m\u001b[0mwilcoxon\u001b[0m\u001b[0;34m(\u001b[0m\u001b[0mpapervals\u001b[0m\u001b[0;34m[\u001b[0m\u001b[0;34m:\u001b[0m\u001b[0;34m-\u001b[0m\u001b[0;36m1\u001b[0m\u001b[0;34m]\u001b[0m\u001b[0;34m,\u001b[0m \u001b[0mc_results\u001b[0m\u001b[0;34m[\u001b[0m\u001b[0;34m:\u001b[0m\u001b[0;34m-\u001b[0m\u001b[0;36m1\u001b[0m\u001b[0;34m]\u001b[0m\u001b[0;34m)\u001b[0m\u001b[0;34m[\u001b[0m\u001b[0;36m1\u001b[0m\u001b[0;34m]\u001b[0m\u001b[0;34m)\u001b[0m\u001b[0;34m\u001b[0m\u001b[0;34m\u001b[0m\u001b[0m\n\u001b[1;32m     55\u001b[0m         \u001b[0ma_results\u001b[0m\u001b[0;34m.\u001b[0m\u001b[0mappend\u001b[0m\u001b[0;34m(\u001b[0m\u001b[0mwilcoxon\u001b[0m\u001b[0;34m(\u001b[0m\u001b[0mpapervals\u001b[0m\u001b[0;34m[\u001b[0m\u001b[0;34m:\u001b[0m\u001b[0;34m-\u001b[0m\u001b[0;36m1\u001b[0m\u001b[0;34m]\u001b[0m\u001b[0;34m,\u001b[0m \u001b[0ma_results\u001b[0m\u001b[0;34m[\u001b[0m\u001b[0;34m:\u001b[0m\u001b[0;34m-\u001b[0m\u001b[0;36m1\u001b[0m\u001b[0;34m]\u001b[0m\u001b[0;34m)\u001b[0m\u001b[0;34m[\u001b[0m\u001b[0;36m1\u001b[0m\u001b[0;34m]\u001b[0m\u001b[0;34m)\u001b[0m\u001b[0;34m\u001b[0m\u001b[0;34m\u001b[0m\u001b[0m\n\u001b[0;32m---> 56\u001b[0;31m         \u001b[0ml_results\u001b[0m\u001b[0;34m.\u001b[0m\u001b[0mappend\u001b[0m\u001b[0;34m(\u001b[0m\u001b[0mwilcoxon\u001b[0m\u001b[0;34m(\u001b[0m\u001b[0mpapervals\u001b[0m\u001b[0;34m[\u001b[0m\u001b[0;34m:\u001b[0m\u001b[0;34m-\u001b[0m\u001b[0;36m1\u001b[0m\u001b[0;34m]\u001b[0m\u001b[0;34m,\u001b[0m \u001b[0mc_results\u001b[0m\u001b[0;34m[\u001b[0m\u001b[0;34m:\u001b[0m\u001b[0;34m-\u001b[0m\u001b[0;36m1\u001b[0m\u001b[0;34m]\u001b[0m\u001b[0;34m)\u001b[0m\u001b[0;34m[\u001b[0m\u001b[0;36m1\u001b[0m\u001b[0;34m]\u001b[0m\u001b[0;34m)\u001b[0m\u001b[0;34m\u001b[0m\u001b[0;34m\u001b[0m\u001b[0m\n\u001b[0m\u001b[1;32m     57\u001b[0m \u001b[0;34m\u001b[0m\u001b[0m\n\u001b[1;32m     58\u001b[0m     \u001b[0mdf\u001b[0m\u001b[0;34m[\u001b[0m\u001b[0;34m'Paper'\u001b[0m\u001b[0;34m]\u001b[0m \u001b[0;34m=\u001b[0m \u001b[0mpapervals\u001b[0m \u001b[0;34m+\u001b[0m \u001b[0;34m[\u001b[0m\u001b[0;32mNone\u001b[0m\u001b[0;34m]\u001b[0m\u001b[0;34m\u001b[0m\u001b[0;34m\u001b[0m\u001b[0m\n",
      "\u001b[0;32m/usr/local/lib/python3.8/dist-packages/scipy/stats/morestats.py\u001b[0m in \u001b[0;36mwilcoxon\u001b[0;34m(x, y, zero_method, correction, alternative, mode)\u001b[0m\n\u001b[1;32m   2953\u001b[0m             \u001b[0;32mraise\u001b[0m \u001b[0mValueError\u001b[0m\u001b[0;34m(\u001b[0m\u001b[0;34m'Samples x and y must be one-dimensional.'\u001b[0m\u001b[0;34m)\u001b[0m\u001b[0;34m\u001b[0m\u001b[0;34m\u001b[0m\u001b[0m\n\u001b[1;32m   2954\u001b[0m         \u001b[0;32mif\u001b[0m \u001b[0mlen\u001b[0m\u001b[0;34m(\u001b[0m\u001b[0mx\u001b[0m\u001b[0;34m)\u001b[0m \u001b[0;34m!=\u001b[0m \u001b[0mlen\u001b[0m\u001b[0;34m(\u001b[0m\u001b[0my\u001b[0m\u001b[0;34m)\u001b[0m\u001b[0;34m:\u001b[0m\u001b[0;34m\u001b[0m\u001b[0;34m\u001b[0m\u001b[0m\n\u001b[0;32m-> 2955\u001b[0;31m             \u001b[0;32mraise\u001b[0m \u001b[0mValueError\u001b[0m\u001b[0;34m(\u001b[0m\u001b[0;34m'The samples x and y must have the same length.'\u001b[0m\u001b[0;34m)\u001b[0m\u001b[0;34m\u001b[0m\u001b[0;34m\u001b[0m\u001b[0m\n\u001b[0m\u001b[1;32m   2956\u001b[0m         \u001b[0md\u001b[0m \u001b[0;34m=\u001b[0m \u001b[0mx\u001b[0m \u001b[0;34m-\u001b[0m \u001b[0my\u001b[0m\u001b[0;34m\u001b[0m\u001b[0;34m\u001b[0m\u001b[0m\n\u001b[1;32m   2957\u001b[0m \u001b[0;34m\u001b[0m\u001b[0m\n",
      "\u001b[0;31mValueError\u001b[0m: The samples x and y must have the same length."
     ]
    }
   ],
   "source": [
    "df = bootstrap_estimation(SubjectsCOV1, SubjectsY1, n=4, btsp_size=0.8, btsp_n=10, papervals = paper_s1, subject_independent=False)\n",
    "df.head(56)"
   ]
  },
  {
   "cell_type": "markdown",
   "metadata": {},
   "source": [
    "### Session 2"
   ]
  },
  {
   "cell_type": "code",
   "execution_count": null,
   "metadata": {},
   "outputs": [],
   "source": [
    "df = bootstrap_estimation(SubjectsCOV2, SubjectsY2, n=4, btsp_size=0.8, btsp_n=10, papervals = paper_s2, subject_independent=False)\n",
    "df.head(56)"
   ]
  },
  {
   "cell_type": "markdown",
   "metadata": {},
   "source": [
    "## Subject Independent"
   ]
  },
  {
   "cell_type": "markdown",
   "metadata": {},
   "source": [
    "### Session 1"
   ]
  },
  {
   "cell_type": "code",
   "execution_count": null,
   "metadata": {},
   "outputs": [],
   "source": [
    "df = bootstrap_estimation(SubjectsCOV1, SubjectsY1, n=4, btsp_size=0.8, btsp_n=10, papervals = paper_s1, subject_independent=True)\n",
    "df.head(56)"
   ]
  },
  {
   "cell_type": "markdown",
   "metadata": {},
   "source": [
    "### Session 2"
   ]
  },
  {
   "cell_type": "code",
   "execution_count": null,
   "metadata": {},
   "outputs": [],
   "source": [
    "df = bootstrap_estimation(SubjectsCOV2, SubjectsY2, n=4, btsp_size=0.8, btsp_n=10, papervals = paper_s2, subject_independent=True)\n",
    "df.head(56)"
   ]
  },
  {
   "cell_type": "markdown",
   "metadata": {},
   "source": [
    "# Bootstrap Aggregation"
   ]
  },
  {
   "cell_type": "code",
   "execution_count": null,
   "metadata": {},
   "outputs": [],
   "source": [
    "def bootstrap_aggregation():\n",
    "    "
   ]
  },
  {
   "cell_type": "markdown",
   "metadata": {},
   "source": [
    "# Boosting"
   ]
  },
  {
   "cell_type": "code",
   "execution_count": null,
   "metadata": {},
   "outputs": [],
   "source": []
  }
 ],
 "metadata": {
  "kernelspec": {
   "display_name": "Python 3",
   "language": "python",
   "name": "python3"
  },
  "language_info": {
   "codemirror_mode": {
    "name": "ipython",
    "version": 3
   },
   "file_extension": ".py",
   "mimetype": "text/x-python",
   "name": "python",
   "nbconvert_exporter": "python",
   "pygments_lexer": "ipython3",
   "version": "3.8.5-final"
  }
 },
 "nbformat": 4,
 "nbformat_minor": 4
}